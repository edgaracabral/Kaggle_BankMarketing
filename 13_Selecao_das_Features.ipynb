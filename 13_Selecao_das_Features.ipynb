{
  "nbformat": 4,
  "nbformat_minor": 0,
  "metadata": {
    "colab": {
      "provenance": [],
      "include_colab_link": true
    },
    "kernelspec": {
      "name": "python3",
      "display_name": "Python 3"
    },
    "language_info": {
      "name": "python"
    }
  },
  "cells": [
    {
      "cell_type": "markdown",
      "metadata": {
        "id": "view-in-github",
        "colab_type": "text"
      },
      "source": [
        "<a href=\"https://colab.research.google.com/github/edgaracabral/Kaggle_BankMarketing/blob/main/13_Selecao_das_Features.ipynb\" target=\"_parent\"><img src=\"https://colab.research.google.com/assets/colab-badge.svg\" alt=\"Open In Colab\"/></a>"
      ]
    },
    {
      "cell_type": "markdown",
      "source": [
        "# Kaggle Bank Marketing Case\n",
        "## Seleção de Variáveis para Modelagem (*Feature Selection*) - **Sem Dados de Campanha Atual**\n",
        "\n",
        "Neste fase temos como desafio:\n",
        "\n",
        "* Selecionar Variáveis que farão parte do modelo\n",
        "* Criar Analytical Base Tables (ABT) para Treino e Teste\n",
        " * Treino - abt_fs01_train.csv\n",
        " * Teste - abt_fs01_test.csv"
      ],
      "metadata": {
        "id": "yplSGGkXrM6w"
      }
    },
    {
      "cell_type": "markdown",
      "source": [
        "## Framework de Seleção de Variáveis (*Feature Selection*)\n",
        "No passo anterior de Preparação de Dados, é possível utilizar técnicas de *Feature Engineering* que agrupam as variáveis de forma a explodir as possibilidades de análise.\n",
        "\n",
        "No caso deste projeto, esta possibilidade não foi explorada, porém caso fosse feita a base a ser analisada poderia conter uma grande gama de *features*. A PoD Academy menciona a possibilidade de gerar-se até 80 mil variáveis. Para possibilitar o trabalho de modelagem, a *Feature Selection* reduziria o conjunto de *Features* para um número menor a ser tratado no próximo passo.\n",
        "\n",
        "Mantemos o framework de *Feature Selection* como orientado pela PoD Academy para fins ilustrativos, que consiste nos seguintes passos:\n",
        "- Ler as tabelas criadas no passo **DataPrep** anterior,\n",
        "- Aplicar um modelo de Aprendizagem dentre as seguintes opções:\n",
        " - Decision Tree\n",
        " - Gradient Boost\n",
        " - Random Forest\n",
        "- Analisar impacto oferecidos pelas *features*\n",
        "- Definir um threshold que manterá apenas as *features* mais importantes\n",
        "- Gerar artefatos para implantação do *feature selection* realizado\n",
        " - abt_fs01_train.csv\n",
        " - abt_fs01_test.csv"
      ],
      "metadata": {
        "id": "_znVDXXW7MG1"
      }
    },
    {
      "cell_type": "markdown",
      "source": [
        "# 1. Leitura dos Dados"
      ],
      "metadata": {
        "id": "RCF_UrjsvpJp"
      }
    },
    {
      "cell_type": "markdown",
      "source": [
        "## 1.1 Setando o Ambiente\n",
        "* Google Drive\n",
        "* Carregar Bibliotecas Utilizadas\n",
        "* Ir ao folder dos arquivos de DataPrep"
      ],
      "metadata": {
        "id": "jfQQlbDQvr5H"
      }
    },
    {
      "cell_type": "code",
      "source": [
        "from google.colab import drive\n",
        "drive.mount('/content/drive')"
      ],
      "metadata": {
        "id": "uJbXvE3sZDtR",
        "outputId": "9c4cd738-14a4-4189-ab07-8166b3bef618",
        "colab": {
          "base_uri": "https://localhost:8080/"
        }
      },
      "execution_count": null,
      "outputs": [
        {
          "output_type": "stream",
          "name": "stdout",
          "text": [
            "Drive already mounted at /content/drive; to attempt to forcibly remount, call drive.mount(\"/content/drive\", force_remount=True).\n"
          ]
        }
      ]
    },
    {
      "cell_type": "code",
      "source": [
        "import seaborn as sns\n",
        "import pandas as pd\n",
        "import numpy as np\n",
        "import matplotlib.pyplot as plt\n",
        "from sklearn.ensemble import RandomForestClassifier\n",
        "from sklearn.ensemble import GradientBoostingClassifier\n",
        "from sklearn.tree import DecisionTreeClassifier\n",
        "\n",
        "# Redirecione para o folder on pod_academy_functions.py is localizado\n",
        "%cd /content/drive/MyDrive/PoD Academy/modelos/Hackaton_DS_2023/PoD Framework\n",
        "import pod_academy_functions as pod"
      ],
      "metadata": {
        "id": "koM48Dt185P4",
        "outputId": "8b1ee28f-671b-4140-e066-0c9a91211d64",
        "colab": {
          "base_uri": "https://localhost:8080/"
        }
      },
      "execution_count": null,
      "outputs": [
        {
          "output_type": "stream",
          "name": "stdout",
          "text": [
            "/content/drive/MyDrive/PoD Academy/modelos/Hackaton_DS_2023/PoD Framework\n"
          ]
        }
      ]
    },
    {
      "cell_type": "code",
      "source": [
        "# Armazene o caminho do folder de DataPrep em file_path\n",
        "file_path = '/content/drive/MyDrive/Kaggle/Bank\\ Marketing/12\\ data\\ prep'\n",
        "\n",
        "# Vá para o folder de DataPrep\n",
        "%cd $file_path"
      ],
      "metadata": {
        "id": "MxlT-jkBwiO-",
        "outputId": "41adb815-b243-4cd5-9559-56f847e70cea",
        "colab": {
          "base_uri": "https://localhost:8080/"
        }
      },
      "execution_count": null,
      "outputs": [
        {
          "output_type": "stream",
          "name": "stdout",
          "text": [
            "/content/drive/MyDrive/Kaggle/Bank Marketing/12 data prep\n"
          ]
        }
      ]
    },
    {
      "cell_type": "markdown",
      "source": [
        "#2. Trabalhando com a ABT de Treino"
      ],
      "metadata": {
        "id": "i3jwvWs20Voy"
      }
    },
    {
      "cell_type": "markdown",
      "source": [
        "## 2.1 Carregando a ABT de Treino"
      ],
      "metadata": {
        "id": "GFZWniHiwu0M"
      }
    },
    {
      "cell_type": "code",
      "execution_count": null,
      "metadata": {
        "colab": {
          "base_uri": "https://localhost:8080/"
        },
        "id": "GSOvBoaI65rx",
        "outputId": "122cd681-61e2-436d-8020-a266c7523bcd"
      },
      "outputs": [
        {
          "output_type": "execute_result",
          "data": {
            "text/plain": [
              "(31647, 29)"
            ]
          },
          "metadata": {},
          "execution_count": 26
        }
      ],
      "source": [
        "abt_00 = pd.read_csv('abt_train.csv')\n",
        "abt_00.shape"
      ]
    },
    {
      "cell_type": "code",
      "source": [
        "abt_00.columns"
      ],
      "metadata": {
        "colab": {
          "base_uri": "https://localhost:8080/"
        },
        "id": "wXqRXbCIGr4l",
        "outputId": "67adfe15-b7cf-4283-cc92-c01f5e9da4b8"
      },
      "execution_count": null,
      "outputs": [
        {
          "output_type": "execute_result",
          "data": {
            "text/plain": [
              "Index(['Unnamed: 0', 'age', 'balance', 'pdays', 'previous', 'job_blue-collar',\n",
              "       'job_entrepreneur', 'job_housemaid', 'job_management', 'job_retired',\n",
              "       'job_self-employed', 'job_services', 'job_student', 'job_technician',\n",
              "       'job_unemployed', 'job_unknown', 'marital_married', 'marital_single',\n",
              "       'education_secondary', 'education_tertiary', 'education_unknown',\n",
              "       'default_yes', 'housing_yes', 'loan_yes', 'poutcome_other',\n",
              "       'poutcome_success', 'poutcome_unknown', 'id', 'target'],\n",
              "      dtype='object')"
            ]
          },
          "metadata": {},
          "execution_count": 27
        }
      ]
    },
    {
      "cell_type": "markdown",
      "source": [
        "## 2.2 Removendo colunas **Unnamed** e **id** da ABT de Treino\n",
        "contact\n",
        "day\n",
        "month\n",
        "duration\n",
        "campaign"
      ],
      "metadata": {
        "id": "queTKgcFyb5L"
      }
    },
    {
      "cell_type": "code",
      "source": [
        "# Removendo colunas 'Unnamed' e 'id' da tabela abt_00\n",
        "# No final deste processo, as tabelas geradas não devem possuir a coluna id\n",
        "abt_00.drop(axis=1,columns=['Unnamed: 0','id'],inplace=True)\n",
        "abt_00.shape"
      ],
      "metadata": {
        "id": "wF39e7jHx5be",
        "outputId": "c2893382-696a-4103-d8e5-1ada87061aa5",
        "colab": {
          "base_uri": "https://localhost:8080/"
        }
      },
      "execution_count": null,
      "outputs": [
        {
          "output_type": "execute_result",
          "data": {
            "text/plain": [
              "(31647, 27)"
            ]
          },
          "metadata": {},
          "execution_count": 28
        }
      ]
    },
    {
      "cell_type": "markdown",
      "source": [
        "## 2.3 Aplicando Modelo para identificar importância das variáveis Explicativas\n",
        "Separamos em variáveis Explicativas (dataframe **X**) e a variável Target (dataframe **y**) e selecionamos o algoritmo que será utilizado."
      ],
      "metadata": {
        "id": "o8RGKC86y4kK"
      }
    },
    {
      "cell_type": "code",
      "source": [
        "X = abt_00.drop(axis=1,columns='target')\n",
        "y = abt_00.target\n",
        "\n",
        "print(X.shape)\n",
        "print(y.shape)\n",
        "\n",
        "# Treinar modelo com algoritmo Random Forest (Calma, não precisa focar no modelo neste momento)\n",
        "#clf = RandomForestClassifier() # troque aqui qual classificador quer utilizar: GradientBoostingClassifier, DecisionTreeClassifier\n",
        "clf = DecisionTreeClassifier() # troque aqui qual classificador quer utilizar: GradientBoostingClassifier, DecisionTreeClassifier\n",
        "clf.fit(X, y)"
      ],
      "metadata": {
        "id": "kLi6s28R7PWd",
        "colab": {
          "base_uri": "https://localhost:8080/",
          "height": 109
        },
        "outputId": "aa441787-c4a3-4075-9f8a-795338bab3bf"
      },
      "execution_count": null,
      "outputs": [
        {
          "output_type": "stream",
          "name": "stdout",
          "text": [
            "(31647, 26)\n",
            "(31647,)\n"
          ]
        },
        {
          "output_type": "execute_result",
          "data": {
            "text/plain": [
              "DecisionTreeClassifier()"
            ],
            "text/html": [
              "<style>#sk-container-id-1 {color: black;}#sk-container-id-1 pre{padding: 0;}#sk-container-id-1 div.sk-toggleable {background-color: white;}#sk-container-id-1 label.sk-toggleable__label {cursor: pointer;display: block;width: 100%;margin-bottom: 0;padding: 0.3em;box-sizing: border-box;text-align: center;}#sk-container-id-1 label.sk-toggleable__label-arrow:before {content: \"▸\";float: left;margin-right: 0.25em;color: #696969;}#sk-container-id-1 label.sk-toggleable__label-arrow:hover:before {color: black;}#sk-container-id-1 div.sk-estimator:hover label.sk-toggleable__label-arrow:before {color: black;}#sk-container-id-1 div.sk-toggleable__content {max-height: 0;max-width: 0;overflow: hidden;text-align: left;background-color: #f0f8ff;}#sk-container-id-1 div.sk-toggleable__content pre {margin: 0.2em;color: black;border-radius: 0.25em;background-color: #f0f8ff;}#sk-container-id-1 input.sk-toggleable__control:checked~div.sk-toggleable__content {max-height: 200px;max-width: 100%;overflow: auto;}#sk-container-id-1 input.sk-toggleable__control:checked~label.sk-toggleable__label-arrow:before {content: \"▾\";}#sk-container-id-1 div.sk-estimator input.sk-toggleable__control:checked~label.sk-toggleable__label {background-color: #d4ebff;}#sk-container-id-1 div.sk-label input.sk-toggleable__control:checked~label.sk-toggleable__label {background-color: #d4ebff;}#sk-container-id-1 input.sk-hidden--visually {border: 0;clip: rect(1px 1px 1px 1px);clip: rect(1px, 1px, 1px, 1px);height: 1px;margin: -1px;overflow: hidden;padding: 0;position: absolute;width: 1px;}#sk-container-id-1 div.sk-estimator {font-family: monospace;background-color: #f0f8ff;border: 1px dotted black;border-radius: 0.25em;box-sizing: border-box;margin-bottom: 0.5em;}#sk-container-id-1 div.sk-estimator:hover {background-color: #d4ebff;}#sk-container-id-1 div.sk-parallel-item::after {content: \"\";width: 100%;border-bottom: 1px solid gray;flex-grow: 1;}#sk-container-id-1 div.sk-label:hover label.sk-toggleable__label {background-color: #d4ebff;}#sk-container-id-1 div.sk-serial::before {content: \"\";position: absolute;border-left: 1px solid gray;box-sizing: border-box;top: 0;bottom: 0;left: 50%;z-index: 0;}#sk-container-id-1 div.sk-serial {display: flex;flex-direction: column;align-items: center;background-color: white;padding-right: 0.2em;padding-left: 0.2em;position: relative;}#sk-container-id-1 div.sk-item {position: relative;z-index: 1;}#sk-container-id-1 div.sk-parallel {display: flex;align-items: stretch;justify-content: center;background-color: white;position: relative;}#sk-container-id-1 div.sk-item::before, #sk-container-id-1 div.sk-parallel-item::before {content: \"\";position: absolute;border-left: 1px solid gray;box-sizing: border-box;top: 0;bottom: 0;left: 50%;z-index: -1;}#sk-container-id-1 div.sk-parallel-item {display: flex;flex-direction: column;z-index: 1;position: relative;background-color: white;}#sk-container-id-1 div.sk-parallel-item:first-child::after {align-self: flex-end;width: 50%;}#sk-container-id-1 div.sk-parallel-item:last-child::after {align-self: flex-start;width: 50%;}#sk-container-id-1 div.sk-parallel-item:only-child::after {width: 0;}#sk-container-id-1 div.sk-dashed-wrapped {border: 1px dashed gray;margin: 0 0.4em 0.5em 0.4em;box-sizing: border-box;padding-bottom: 0.4em;background-color: white;}#sk-container-id-1 div.sk-label label {font-family: monospace;font-weight: bold;display: inline-block;line-height: 1.2em;}#sk-container-id-1 div.sk-label-container {text-align: center;}#sk-container-id-1 div.sk-container {/* jupyter's `normalize.less` sets `[hidden] { display: none; }` but bootstrap.min.css set `[hidden] { display: none !important; }` so we also need the `!important` here to be able to override the default hidden behavior on the sphinx rendered scikit-learn.org. See: https://github.com/scikit-learn/scikit-learn/issues/21755 */display: inline-block !important;position: relative;}#sk-container-id-1 div.sk-text-repr-fallback {display: none;}</style><div id=\"sk-container-id-1\" class=\"sk-top-container\"><div class=\"sk-text-repr-fallback\"><pre>DecisionTreeClassifier()</pre><b>In a Jupyter environment, please rerun this cell to show the HTML representation or trust the notebook. <br />On GitHub, the HTML representation is unable to render, please try loading this page with nbviewer.org.</b></div><div class=\"sk-container\" hidden><div class=\"sk-item\"><div class=\"sk-estimator sk-toggleable\"><input class=\"sk-toggleable__control sk-hidden--visually\" id=\"sk-estimator-id-1\" type=\"checkbox\" checked><label for=\"sk-estimator-id-1\" class=\"sk-toggleable__label sk-toggleable__label-arrow\">DecisionTreeClassifier</label><div class=\"sk-toggleable__content\"><pre>DecisionTreeClassifier()</pre></div></div></div></div></div>"
            ]
          },
          "metadata": {},
          "execution_count": 29
        }
      ]
    },
    {
      "cell_type": "markdown",
      "source": [
        "Executamos o algorítmo para identificar a importância das variáveis Explicativas face a variável Target."
      ],
      "metadata": {
        "id": "TQCt4bSLzpQG"
      }
    },
    {
      "cell_type": "code",
      "source": [
        "# Obter importância das variáveis\n",
        "feature_importances = clf.feature_importances_\n",
        "features = pd.DataFrame({\n",
        "    'Feature': X.columns,\n",
        "    'Importance': feature_importances\n",
        "})\n",
        "\n",
        "# Ordenar variáveis por importância\n",
        "features = features.sort_values(by='Importance', ascending=False)\n",
        "\n",
        "# Estabelecer um limite de corte, por exemplo, x% da importância máxima\n",
        "cutoff_maximp = 0.005\n",
        "\n",
        "cutoff = cutoff_maximp * feature_importances.max()\n",
        "\n",
        "# Selecionar variáveis acima do corte\n",
        "selected_features = X.columns[feature_importances > cutoff].tolist()\n",
        "print('Número de features selecionadas: ',len(selected_features))\n",
        "\n",
        "# Ordenar variáveis por importância\n",
        "features = features.sort_values(by='Importance', ascending=True)\n",
        "\n",
        "# Filtrar o DataFrame para apenas as features acima do corte\n",
        "selected_features_df = features[features['Importance'] > cutoff]\n",
        "\n",
        "# Ajusta o tamanho da figura com base no número de features selecionadas\n",
        "plt.figure(figsize=(10, len(selected_features_df)*0.4))\n",
        "\n",
        "# Plota as features selecionadas\n",
        "plt.barh(selected_features_df['Feature'], selected_features_df['Importance'], color=(0.25, 0.5, 1))\n",
        "plt.xlabel(\"Feature Importance\")\n",
        "plt.title(\"Variáveis Selecionadas - Random Forest\")\n",
        "plt.grid(axis='x', linestyle='--', alpha=0.7)\n",
        "plt.tight_layout()\n",
        "plt.show()\n"
      ],
      "metadata": {
        "colab": {
          "base_uri": "https://localhost:8080/",
          "height": 1000
        },
        "id": "9b-V7U9c-nyx",
        "outputId": "aa2b962a-6d57-40d5-ed83-c22f4f605c05"
      },
      "execution_count": null,
      "outputs": [
        {
          "output_type": "stream",
          "name": "stdout",
          "text": [
            "Número de features selecionadas:  25\n"
          ]
        },
        {
          "output_type": "display_data",
          "data": {
            "text/plain": [
              "<Figure size 1000x1000 with 1 Axes>"
            ],
            "image/png": "[encoded data removed]"
          },
          "metadata": {}
        }
      ]
    },
    {
      "cell_type": "markdown",
      "source": [
        "## 2.4 Salvar Artefato .pkl de *Features* selecionadas\n",
        "O arquivo `prd_list_features_hktn.pkl` contém as *features* selecionadas neste framework."
      ],
      "metadata": {
        "id": "-lHtxwfQ1MCS"
      }
    },
    {
      "cell_type": "code",
      "source": [
        "# Salvar a lista em um arquivo .pkl\n",
        "import pickle\n",
        "with open('prd_list_features_hktn.pkl', 'wb') as f:\n",
        "    pickle.dump(selected_features, f)"
      ],
      "metadata": {
        "id": "UIMFpAZLDNgt"
      },
      "execution_count": null,
      "outputs": []
    },
    {
      "cell_type": "markdown",
      "source": [
        "## 2.5 Carregando o Artefato .pkl de *Features* selecionadas\n",
        "Para verificar se artefato foi devidamente salvo, pois será usado caso coloquemos em Produção.\n",
        "\n",
        "Comparar com o histograma gerado no passo 2.3 acima."
      ],
      "metadata": {
        "id": "eUxcNFuk2A0L"
      }
    },
    {
      "cell_type": "code",
      "source": [
        "# Carregar a lista do arquivo .pkl\n",
        "with open('prd_list_features_hktn.pkl', 'rb') as f:\n",
        "    loaded_lista = pickle.load(f)\n",
        "\n",
        "print(loaded_lista)"
      ],
      "metadata": {
        "colab": {
          "base_uri": "https://localhost:8080/"
        },
        "id": "6E-NTW1aDa6m",
        "outputId": "696eab93-fe88-4ed4-a75e-22d0291199cb"
      },
      "execution_count": null,
      "outputs": [
        {
          "output_type": "stream",
          "name": "stdout",
          "text": [
            "['age', 'balance', 'pdays', 'previous', 'job_blue-collar', 'job_entrepreneur', 'job_housemaid', 'job_management', 'job_retired', 'job_self-employed', 'job_services', 'job_student', 'job_technician', 'job_unemployed', 'marital_married', 'marital_single', 'education_secondary', 'education_tertiary', 'education_unknown', 'default_yes', 'housing_yes', 'loan_yes', 'poutcome_other', 'poutcome_success', 'poutcome_unknown']\n"
          ]
        }
      ]
    },
    {
      "cell_type": "markdown",
      "source": [
        "## 2.6 Cria dataframe **abt_01** apenas com Features selecionadas e Target"
      ],
      "metadata": {
        "id": "IVqOdWJU3dpH"
      }
    },
    {
      "cell_type": "code",
      "source": [
        "lista_features = loaded_lista + ['target']\n",
        "abt_01 = abt_00[lista_features]\n",
        "abt_01.shape"
      ],
      "metadata": {
        "colab": {
          "base_uri": "https://localhost:8080/"
        },
        "id": "rphY4we4COxJ",
        "outputId": "75baebdf-1384-4635-f5aa-c14d9c9dbe3e"
      },
      "execution_count": null,
      "outputs": [
        {
          "output_type": "execute_result",
          "data": {
            "text/plain": [
              "(31647, 26)"
            ]
          },
          "metadata": {},
          "execution_count": 42
        }
      ]
    },
    {
      "cell_type": "code",
      "source": [
        "abt_01.head()"
      ],
      "metadata": {
        "id": "_R_ptEBO4bhF",
        "outputId": "a339e48e-83eb-4faf-bd4f-29e3cbe6bc52",
        "colab": {
          "base_uri": "https://localhost:8080/",
          "height": 273
        }
      },
      "execution_count": null,
      "outputs": [
        {
          "output_type": "execute_result",
          "data": {
            "text/plain": [
              "        age   balance         pdays  previous  job_blue-collar  \\\n",
              "0 -0.464799 -0.456680 -1.138504e-15 -0.240512        -0.526225   \n",
              "1  1.416343 -0.390831 -1.138504e-15 -0.240512        -0.526225   \n",
              "2  0.475772 -0.456680 -1.138504e-15 -0.240512         1.900329   \n",
              "3  0.005486  0.694328 -2.127233e+00  1.812098        -0.526225   \n",
              "4 -0.276685 -0.456680 -1.138504e-15 -0.240512         1.900329   \n",
              "\n",
              "   job_entrepreneur  job_housemaid  job_management  job_retired  \\\n",
              "0         -0.184151      -0.168627       -0.512000    -0.230455   \n",
              "1          5.430326      -0.168627       -0.512000    -0.230455   \n",
              "2         -0.184151      -0.168627       -0.512000    -0.230455   \n",
              "3         -0.184151      -0.168627        1.953125    -0.230455   \n",
              "4         -0.184151      -0.168627       -0.512000    -0.230455   \n",
              "\n",
              "   job_self-employed  ...  education_secondary  education_tertiary  \\\n",
              "0          -0.191898  ...            -1.033257            1.564172   \n",
              "1          -0.191898  ...             0.967813           -0.639316   \n",
              "2          -0.191898  ...             0.967813           -0.639316   \n",
              "3          -0.191898  ...            -1.033257            1.564172   \n",
              "4          -0.191898  ...             0.967813           -0.639316   \n",
              "\n",
              "   education_unknown  default_yes  housing_yes  loan_yes  poutcome_other  \\\n",
              "0          -0.208793    -0.140544    -1.119132 -0.437178       -0.209122   \n",
              "1          -0.208793    -0.140544    -1.119132 -0.437178       -0.209122   \n",
              "2          -0.208793    -0.140544     0.893550 -0.437178       -0.209122   \n",
              "3          -0.208793    -0.140544    -1.119132 -0.437178       -0.209122   \n",
              "4          -0.208793    -0.140544     0.893550 -0.437178       -0.209122   \n",
              "\n",
              "   poutcome_success  poutcome_unknown  target  \n",
              "0         -0.185066          0.472706       0  \n",
              "1         -0.185066          0.472706       0  \n",
              "2         -0.185066          0.472706       0  \n",
              "3          5.403473         -2.115481       0  \n",
              "4         -0.185066          0.472706       0  \n",
              "\n",
              "[5 rows x 26 columns]"
            ],
            "text/html": [
              "\n",
              "  <div id=\"df-a920f7c2-9959-403c-9dbc-bbd191731371\" class=\"colab-df-container\">\n",
              "    <div>\n",
              "<style scoped>\n",
              "    .dataframe tbody tr th:only-of-type {\n",
              "        vertical-align: middle;\n",
              "    }\n",
              "\n",
              "    .dataframe tbody tr th {\n",
              "        vertical-align: top;\n",
              "    }\n",
              "\n",
              "    .dataframe thead th {\n",
              "        text-align: right;\n",
              "    }\n",
              "</style>\n",
              "<table border=\"1\" class=\"dataframe\">\n",
              "  <thead>\n",
              "    <tr style=\"text-align: right;\">\n",
              "      <th></th>\n",
              "      <th>age</th>\n",
              "      <th>balance</th>\n",
              "      <th>pdays</th>\n",
              "      <th>previous</th>\n",
              "      <th>job_blue-collar</th>\n",
              "      <th>job_entrepreneur</th>\n",
              "      <th>job_housemaid</th>\n",
              "      <th>job_management</th>\n",
              "      <th>job_retired</th>\n",
              "      <th>job_self-employed</th>\n",
              "      <th>...</th>\n",
              "      <th>education_secondary</th>\n",
              "      <th>education_tertiary</th>\n",
              "      <th>education_unknown</th>\n",
              "      <th>default_yes</th>\n",
              "      <th>housing_yes</th>\n",
              "      <th>loan_yes</th>\n",
              "      <th>poutcome_other</th>\n",
              "      <th>poutcome_success</th>\n",
              "      <th>poutcome_unknown</th>\n",
              "      <th>target</th>\n",
              "    </tr>\n",
              "  </thead>\n",
              "  <tbody>\n",
              "    <tr>\n",
              "      <th>0</th>\n",
              "      <td>-0.464799</td>\n",
              "      <td>-0.456680</td>\n",
              "      <td>-1.138504e-15</td>\n",
              "      <td>-0.240512</td>\n",
              "      <td>-0.526225</td>\n",
              "      <td>-0.184151</td>\n",
              "      <td>-0.168627</td>\n",
              "      <td>-0.512000</td>\n",
              "      <td>-0.230455</td>\n",
              "      <td>-0.191898</td>\n",
              "      <td>...</td>\n",
              "      <td>-1.033257</td>\n",
              "      <td>1.564172</td>\n",
              "      <td>-0.208793</td>\n",
              "      <td>-0.140544</td>\n",
              "      <td>-1.119132</td>\n",
              "      <td>-0.437178</td>\n",
              "      <td>-0.209122</td>\n",
              "      <td>-0.185066</td>\n",
              "      <td>0.472706</td>\n",
              "      <td>0</td>\n",
              "    </tr>\n",
              "    <tr>\n",
              "      <th>1</th>\n",
              "      <td>1.416343</td>\n",
              "      <td>-0.390831</td>\n",
              "      <td>-1.138504e-15</td>\n",
              "      <td>-0.240512</td>\n",
              "      <td>-0.526225</td>\n",
              "      <td>5.430326</td>\n",
              "      <td>-0.168627</td>\n",
              "      <td>-0.512000</td>\n",
              "      <td>-0.230455</td>\n",
              "      <td>-0.191898</td>\n",
              "      <td>...</td>\n",
              "      <td>0.967813</td>\n",
              "      <td>-0.639316</td>\n",
              "      <td>-0.208793</td>\n",
              "      <td>-0.140544</td>\n",
              "      <td>-1.119132</td>\n",
              "      <td>-0.437178</td>\n",
              "      <td>-0.209122</td>\n",
              "      <td>-0.185066</td>\n",
              "      <td>0.472706</td>\n",
              "      <td>0</td>\n",
              "    </tr>\n",
              "    <tr>\n",
              "      <th>2</th>\n",
              "      <td>0.475772</td>\n",
              "      <td>-0.456680</td>\n",
              "      <td>-1.138504e-15</td>\n",
              "      <td>-0.240512</td>\n",
              "      <td>1.900329</td>\n",
              "      <td>-0.184151</td>\n",
              "      <td>-0.168627</td>\n",
              "      <td>-0.512000</td>\n",
              "      <td>-0.230455</td>\n",
              "      <td>-0.191898</td>\n",
              "      <td>...</td>\n",
              "      <td>0.967813</td>\n",
              "      <td>-0.639316</td>\n",
              "      <td>-0.208793</td>\n",
              "      <td>-0.140544</td>\n",
              "      <td>0.893550</td>\n",
              "      <td>-0.437178</td>\n",
              "      <td>-0.209122</td>\n",
              "      <td>-0.185066</td>\n",
              "      <td>0.472706</td>\n",
              "      <td>0</td>\n",
              "    </tr>\n",
              "    <tr>\n",
              "      <th>3</th>\n",
              "      <td>0.005486</td>\n",
              "      <td>0.694328</td>\n",
              "      <td>-2.127233e+00</td>\n",
              "      <td>1.812098</td>\n",
              "      <td>-0.526225</td>\n",
              "      <td>-0.184151</td>\n",
              "      <td>-0.168627</td>\n",
              "      <td>1.953125</td>\n",
              "      <td>-0.230455</td>\n",
              "      <td>-0.191898</td>\n",
              "      <td>...</td>\n",
              "      <td>-1.033257</td>\n",
              "      <td>1.564172</td>\n",
              "      <td>-0.208793</td>\n",
              "      <td>-0.140544</td>\n",
              "      <td>-1.119132</td>\n",
              "      <td>-0.437178</td>\n",
              "      <td>-0.209122</td>\n",
              "      <td>5.403473</td>\n",
              "      <td>-2.115481</td>\n",
              "      <td>0</td>\n",
              "    </tr>\n",
              "    <tr>\n",
              "      <th>4</th>\n",
              "      <td>-0.276685</td>\n",
              "      <td>-0.456680</td>\n",
              "      <td>-1.138504e-15</td>\n",
              "      <td>-0.240512</td>\n",
              "      <td>1.900329</td>\n",
              "      <td>-0.184151</td>\n",
              "      <td>-0.168627</td>\n",
              "      <td>-0.512000</td>\n",
              "      <td>-0.230455</td>\n",
              "      <td>-0.191898</td>\n",
              "      <td>...</td>\n",
              "      <td>0.967813</td>\n",
              "      <td>-0.639316</td>\n",
              "      <td>-0.208793</td>\n",
              "      <td>-0.140544</td>\n",
              "      <td>0.893550</td>\n",
              "      <td>-0.437178</td>\n",
              "      <td>-0.209122</td>\n",
              "      <td>-0.185066</td>\n",
              "      <td>0.472706</td>\n",
              "      <td>0</td>\n",
              "    </tr>\n",
              "  </tbody>\n",
              "</table>\n",
              "<p>5 rows × 26 columns</p>\n",
              "</div>\n",
              "    <div class=\"colab-df-buttons\">\n",
              "\n",
              "  <div class=\"colab-df-container\">\n",
              "    <button class=\"colab-df-convert\" onclick=\"convertToInteractive('df-a920f7c2-9959-403c-9dbc-bbd191731371')\"\n",
              "            title=\"Convert this dataframe to an interactive table.\"\n",
              "            style=\"display:none;\">\n",
              "\n",
              "  <svg xmlns=\"http://www.w3.org/2000/svg\" height=\"24px\" viewBox=\"0 -960 960 960\">\n",
              "    <path d=\"M120-120v-720h720v720H120Zm60-500h600v-160H180v160Zm220 220h160v-160H400v160Zm0 220h160v-160H400v160ZM180-400h160v-160H180v160Zm440 0h160v-160H620v160ZM180-180h160v-160H180v160Zm440 0h160v-160H620v160Z\"/>\n",
              "  </svg>\n",
              "    </button>\n",
              "\n",
              "  <style>\n",
              "    .colab-df-container {\n",
              "      display:flex;\n",
              "      gap: 12px;\n",
              "    }\n",
              "\n",
              "    .colab-df-convert {\n",
              "      background-color: #E8F0FE;\n",
              "      border: none;\n",
              "      border-radius: 50%;\n",
              "      cursor: pointer;\n",
              "      display: none;\n",
              "      fill: #1967D2;\n",
              "      height: 32px;\n",
              "      padding: 0 0 0 0;\n",
              "      width: 32px;\n",
              "    }\n",
              "\n",
              "    .colab-df-convert:hover {\n",
              "      background-color: #E2EBFA;\n",
              "      box-shadow: 0px 1px 2px rgba(60, 64, 67, 0.3), 0px 1px 3px 1px rgba(60, 64, 67, 0.15);\n",
              "      fill: #174EA6;\n",
              "    }\n",
              "\n",
              "    .colab-df-buttons div {\n",
              "      margin-bottom: 4px;\n",
              "    }\n",
              "\n",
              "    [theme=dark] .colab-df-convert {\n",
              "      background-color: #3B4455;\n",
              "      fill: #D2E3FC;\n",
              "    }\n",
              "\n",
              "    [theme=dark] .colab-df-convert:hover {\n",
              "      background-color: #434B5C;\n",
              "      box-shadow: 0px 1px 3px 1px rgba(0, 0, 0, 0.15);\n",
              "      filter: drop-shadow(0px 1px 2px rgba(0, 0, 0, 0.3));\n",
              "      fill: #FFFFFF;\n",
              "    }\n",
              "  </style>\n",
              "\n",
              "    <script>\n",
              "      const buttonEl =\n",
              "        document.querySelector('#df-a920f7c2-9959-403c-9dbc-bbd191731371 button.colab-df-convert');\n",
              "      buttonEl.style.display =\n",
              "        google.colab.kernel.accessAllowed ? 'block' : 'none';\n",
              "\n",
              "      async function convertToInteractive(key) {\n",
              "        const element = document.querySelector('#df-a920f7c2-9959-403c-9dbc-bbd191731371');\n",
              "        const dataTable =\n",
              "          await google.colab.kernel.invokeFunction('convertToInteractive',\n",
              "                                                    [key], {});\n",
              "        if (!dataTable) return;\n",
              "\n",
              "        const docLinkHtml = 'Like what you see? Visit the ' +\n",
              "          '<a target=\"_blank\" href=https://colab.research.google.com/notebooks/data_table.ipynb>data table notebook</a>'\n",
              "          + ' to learn more about interactive tables.';\n",
              "        element.innerHTML = '';\n",
              "        dataTable['output_type'] = 'display_data';\n",
              "        await google.colab.output.renderOutput(dataTable, element);\n",
              "        const docLink = document.createElement('div');\n",
              "        docLink.innerHTML = docLinkHtml;\n",
              "        element.appendChild(docLink);\n",
              "      }\n",
              "    </script>\n",
              "  </div>\n",
              "\n",
              "\n",
              "<div id=\"df-e6662d5d-aa0b-4561-be3f-ce4d9d284f17\">\n",
              "  <button class=\"colab-df-quickchart\" onclick=\"quickchart('df-e6662d5d-aa0b-4561-be3f-ce4d9d284f17')\"\n",
              "            title=\"Suggest charts\"\n",
              "            style=\"display:none;\">\n",
              "\n",
              "<svg xmlns=\"http://www.w3.org/2000/svg\" height=\"24px\"viewBox=\"0 0 24 24\"\n",
              "     width=\"24px\">\n",
              "    <g>\n",
              "        <path d=\"M19 3H5c-1.1 0-2 .9-2 2v14c0 1.1.9 2 2 2h14c1.1 0 2-.9 2-2V5c0-1.1-.9-2-2-2zM9 17H7v-7h2v7zm4 0h-2V7h2v10zm4 0h-2v-4h2v4z\"/>\n",
              "    </g>\n",
              "</svg>\n",
              "  </button>\n",
              "\n",
              "<style>\n",
              "  .colab-df-quickchart {\n",
              "      --bg-color: #E8F0FE;\n",
              "      --fill-color: #1967D2;\n",
              "      --hover-bg-color: #E2EBFA;\n",
              "      --hover-fill-color: #174EA6;\n",
              "      --disabled-fill-color: #AAA;\n",
              "      --disabled-bg-color: #DDD;\n",
              "  }\n",
              "\n",
              "  [theme=dark] .colab-df-quickchart {\n",
              "      --bg-color: #3B4455;\n",
              "      --fill-color: #D2E3FC;\n",
              "      --hover-bg-color: #434B5C;\n",
              "      --hover-fill-color: #FFFFFF;\n",
              "      --disabled-bg-color: #3B4455;\n",
              "      --disabled-fill-color: #666;\n",
              "  }\n",
              "\n",
              "  .colab-df-quickchart {\n",
              "    background-color: var(--bg-color);\n",
              "    border: none;\n",
              "    border-radius: 50%;\n",
              "    cursor: pointer;\n",
              "    display: none;\n",
              "    fill: var(--fill-color);\n",
              "    height: 32px;\n",
              "    padding: 0;\n",
              "    width: 32px;\n",
              "  }\n",
              "\n",
              "  .colab-df-quickchart:hover {\n",
              "    background-color: var(--hover-bg-color);\n",
              "    box-shadow: 0 1px 2px rgba(60, 64, 67, 0.3), 0 1px 3px 1px rgba(60, 64, 67, 0.15);\n",
              "    fill: var(--button-hover-fill-color);\n",
              "  }\n",
              "\n",
              "  .colab-df-quickchart-complete:disabled,\n",
              "  .colab-df-quickchart-complete:disabled:hover {\n",
              "    background-color: var(--disabled-bg-color);\n",
              "    fill: var(--disabled-fill-color);\n",
              "    box-shadow: none;\n",
              "  }\n",
              "\n",
              "  .colab-df-spinner {\n",
              "    border: 2px solid var(--fill-color);\n",
              "    border-color: transparent;\n",
              "    border-bottom-color: var(--fill-color);\n",
              "    animation:\n",
              "      spin 1s steps(1) infinite;\n",
              "  }\n",
              "\n",
              "  @keyframes spin {\n",
              "    0% {\n",
              "      border-color: transparent;\n",
              "      border-bottom-color: var(--fill-color);\n",
              "      border-left-color: var(--fill-color);\n",
              "    }\n",
              "    20% {\n",
              "      border-color: transparent;\n",
              "      border-left-color: var(--fill-color);\n",
              "      border-top-color: var(--fill-color);\n",
              "    }\n",
              "    30% {\n",
              "      border-color: transparent;\n",
              "      border-left-color: var(--fill-color);\n",
              "      border-top-color: var(--fill-color);\n",
              "      border-right-color: var(--fill-color);\n",
              "    }\n",
              "    40% {\n",
              "      border-color: transparent;\n",
              "      border-right-color: var(--fill-color);\n",
              "      border-top-color: var(--fill-color);\n",
              "    }\n",
              "    60% {\n",
              "      border-color: transparent;\n",
              "      border-right-color: var(--fill-color);\n",
              "    }\n",
              "    80% {\n",
              "      border-color: transparent;\n",
              "      border-right-color: var(--fill-color);\n",
              "      border-bottom-color: var(--fill-color);\n",
              "    }\n",
              "    90% {\n",
              "      border-color: transparent;\n",
              "      border-bottom-color: var(--fill-color);\n",
              "    }\n",
              "  }\n",
              "</style>\n",
              "\n",
              "  <script>\n",
              "    async function quickchart(key) {\n",
              "      const quickchartButtonEl =\n",
              "        document.querySelector('#' + key + ' button');\n",
              "      quickchartButtonEl.disabled = true;  // To prevent multiple clicks.\n",
              "      quickchartButtonEl.classList.add('colab-df-spinner');\n",
              "      try {\n",
              "        const charts = await google.colab.kernel.invokeFunction(\n",
              "            'suggestCharts', [key], {});\n",
              "      } catch (error) {\n",
              "        console.error('Error during call to suggestCharts:', error);\n",
              "      }\n",
              "      quickchartButtonEl.classList.remove('colab-df-spinner');\n",
              "      quickchartButtonEl.classList.add('colab-df-quickchart-complete');\n",
              "    }\n",
              "    (() => {\n",
              "      let quickchartButtonEl =\n",
              "        document.querySelector('#df-e6662d5d-aa0b-4561-be3f-ce4d9d284f17 button');\n",
              "      quickchartButtonEl.style.display =\n",
              "        google.colab.kernel.accessAllowed ? 'block' : 'none';\n",
              "    })();\n",
              "  </script>\n",
              "</div>\n",
              "\n",
              "    </div>\n",
              "  </div>\n"
            ],
            "application/vnd.google.colaboratory.intrinsic+json": {
              "type": "dataframe",
              "variable_name": "abt_01"
            }
          },
          "metadata": {},
          "execution_count": 43
        }
      ]
    },
    {
      "cell_type": "markdown",
      "source": [
        "# 3. Trabalhando com a ABT de Teste"
      ],
      "metadata": {
        "id": "Zh8-o_xj11Uw"
      }
    },
    {
      "cell_type": "markdown",
      "source": [
        "## 3.1 Carregando a ABT de Treino"
      ],
      "metadata": {
        "id": "4tcekWks3Wfe"
      }
    },
    {
      "cell_type": "code",
      "source": [
        "abt_test = pd.read_csv('abt_test.csv')\n",
        "abt_test.drop(axis=1,columns=['Unnamed: 0','id'],inplace=True)\n",
        "abt_test.shape"
      ],
      "metadata": {
        "colab": {
          "base_uri": "https://localhost:8080/"
        },
        "id": "001sMhqFDomo",
        "outputId": "73e26059-0bf1-4622-8e91-a1fb43ff6d87"
      },
      "execution_count": null,
      "outputs": [
        {
          "output_type": "execute_result",
          "data": {
            "text/plain": [
              "(13564, 27)"
            ]
          },
          "metadata": {},
          "execution_count": 44
        }
      ]
    },
    {
      "cell_type": "markdown",
      "source": [
        "## 3.2 Cria dataframe **abt_01_test** apenas com Features selecionadas e Target"
      ],
      "metadata": {
        "id": "tQe9vtce3ol8"
      }
    },
    {
      "cell_type": "code",
      "source": [
        "lista_features = loaded_lista + ['target']\n",
        "abt_01_test = abt_test[lista_features]\n",
        "abt_01_test.shape"
      ],
      "metadata": {
        "colab": {
          "base_uri": "https://localhost:8080/"
        },
        "id": "WRhbWlnWDy0l",
        "outputId": "ca0a02e0-8056-4a59-ac9d-16ebac8b96db"
      },
      "execution_count": null,
      "outputs": [
        {
          "output_type": "execute_result",
          "data": {
            "text/plain": [
              "(13564, 26)"
            ]
          },
          "metadata": {},
          "execution_count": 45
        }
      ]
    },
    {
      "cell_type": "code",
      "source": [
        "abt_01_test.head()"
      ],
      "metadata": {
        "id": "6l0B5cUw4Vcm",
        "outputId": "778cfc16-bc53-4361-a9b6-f5197d0238eb",
        "colab": {
          "base_uri": "https://localhost:8080/",
          "height": 273
        }
      },
      "execution_count": null,
      "outputs": [
        {
          "output_type": "execute_result",
          "data": {
            "text/plain": [
              "        age   balance     pdays  previous  job_blue-collar  job_entrepreneur  \\\n",
              "0 -0.087221 -0.248404  0.008043 -0.289532         1.930746         -0.185029   \n",
              "1  0.573919  0.709957  0.008043 -0.289532        -0.517935         -0.185029   \n",
              "2 -1.503949 -0.261541  0.008043 -0.289532        -0.517935         -0.185029   \n",
              "3  0.101676  0.124744  2.327377  0.220761        -0.517935         -0.185029   \n",
              "4  1.423956 -0.361943  0.008043 -0.289532        -0.517935         -0.185029   \n",
              "\n",
              "   job_housemaid  job_management  job_retired  job_self-employed  ...  \\\n",
              "0      -0.166294       -0.519766    -0.227594          -0.186303  ...   \n",
              "1      -0.166294       -0.519766    -0.227594          -0.186303  ...   \n",
              "2      -0.166294       -0.519766    -0.227594          -0.186303  ...   \n",
              "3      -0.166294        1.923944    -0.227594          -0.186303  ...   \n",
              "4      -0.166294        1.923944    -0.227594          -0.186303  ...   \n",
              "\n",
              "   education_secondary  education_tertiary  education_unknown  default_yes  \\\n",
              "0             0.988419           -0.660382          -0.202638    -0.122953   \n",
              "1             0.988419           -0.660382          -0.202638    -0.122953   \n",
              "2            -1.011717            1.514276          -0.202638    -0.122953   \n",
              "3            -1.011717            1.514276          -0.202638    -0.122953   \n",
              "4            -1.011717            1.514276          -0.202638    -0.122953   \n",
              "\n",
              "   housing_yes  loan_yes  poutcome_other  poutcome_success  poutcome_unknown  \\\n",
              "0     0.894768 -0.435928       -0.198462         -0.187992          0.472084   \n",
              "1    -1.117608 -0.435928       -0.198462         -0.187992          0.472084   \n",
              "2     0.894768 -0.435928       -0.198462         -0.187992          0.472084   \n",
              "3    -1.117608 -0.435928       -0.198462         -0.187992         -2.118267   \n",
              "4    -1.117608  2.293956       -0.198462         -0.187992          0.472084   \n",
              "\n",
              "   target  \n",
              "0       0  \n",
              "1       0  \n",
              "2       0  \n",
              "3       0  \n",
              "4       0  \n",
              "\n",
              "[5 rows x 26 columns]"
            ],
            "text/html": [
              "\n",
              "  <div id=\"df-93f373e8-653e-4222-acc2-79e05a0f7398\" class=\"colab-df-container\">\n",
              "    <div>\n",
              "<style scoped>\n",
              "    .dataframe tbody tr th:only-of-type {\n",
              "        vertical-align: middle;\n",
              "    }\n",
              "\n",
              "    .dataframe tbody tr th {\n",
              "        vertical-align: top;\n",
              "    }\n",
              "\n",
              "    .dataframe thead th {\n",
              "        text-align: right;\n",
              "    }\n",
              "</style>\n",
              "<table border=\"1\" class=\"dataframe\">\n",
              "  <thead>\n",
              "    <tr style=\"text-align: right;\">\n",
              "      <th></th>\n",
              "      <th>age</th>\n",
              "      <th>balance</th>\n",
              "      <th>pdays</th>\n",
              "      <th>previous</th>\n",
              "      <th>job_blue-collar</th>\n",
              "      <th>job_entrepreneur</th>\n",
              "      <th>job_housemaid</th>\n",
              "      <th>job_management</th>\n",
              "      <th>job_retired</th>\n",
              "      <th>job_self-employed</th>\n",
              "      <th>...</th>\n",
              "      <th>education_secondary</th>\n",
              "      <th>education_tertiary</th>\n",
              "      <th>education_unknown</th>\n",
              "      <th>default_yes</th>\n",
              "      <th>housing_yes</th>\n",
              "      <th>loan_yes</th>\n",
              "      <th>poutcome_other</th>\n",
              "      <th>poutcome_success</th>\n",
              "      <th>poutcome_unknown</th>\n",
              "      <th>target</th>\n",
              "    </tr>\n",
              "  </thead>\n",
              "  <tbody>\n",
              "    <tr>\n",
              "      <th>0</th>\n",
              "      <td>-0.087221</td>\n",
              "      <td>-0.248404</td>\n",
              "      <td>0.008043</td>\n",
              "      <td>-0.289532</td>\n",
              "      <td>1.930746</td>\n",
              "      <td>-0.185029</td>\n",
              "      <td>-0.166294</td>\n",
              "      <td>-0.519766</td>\n",
              "      <td>-0.227594</td>\n",
              "      <td>-0.186303</td>\n",
              "      <td>...</td>\n",
              "      <td>0.988419</td>\n",
              "      <td>-0.660382</td>\n",
              "      <td>-0.202638</td>\n",
              "      <td>-0.122953</td>\n",
              "      <td>0.894768</td>\n",
              "      <td>-0.435928</td>\n",
              "      <td>-0.198462</td>\n",
              "      <td>-0.187992</td>\n",
              "      <td>0.472084</td>\n",
              "      <td>0</td>\n",
              "    </tr>\n",
              "    <tr>\n",
              "      <th>1</th>\n",
              "      <td>0.573919</td>\n",
              "      <td>0.709957</td>\n",
              "      <td>0.008043</td>\n",
              "      <td>-0.289532</td>\n",
              "      <td>-0.517935</td>\n",
              "      <td>-0.185029</td>\n",
              "      <td>-0.166294</td>\n",
              "      <td>-0.519766</td>\n",
              "      <td>-0.227594</td>\n",
              "      <td>-0.186303</td>\n",
              "      <td>...</td>\n",
              "      <td>0.988419</td>\n",
              "      <td>-0.660382</td>\n",
              "      <td>-0.202638</td>\n",
              "      <td>-0.122953</td>\n",
              "      <td>-1.117608</td>\n",
              "      <td>-0.435928</td>\n",
              "      <td>-0.198462</td>\n",
              "      <td>-0.187992</td>\n",
              "      <td>0.472084</td>\n",
              "      <td>0</td>\n",
              "    </tr>\n",
              "    <tr>\n",
              "      <th>2</th>\n",
              "      <td>-1.503949</td>\n",
              "      <td>-0.261541</td>\n",
              "      <td>0.008043</td>\n",
              "      <td>-0.289532</td>\n",
              "      <td>-0.517935</td>\n",
              "      <td>-0.185029</td>\n",
              "      <td>-0.166294</td>\n",
              "      <td>-0.519766</td>\n",
              "      <td>-0.227594</td>\n",
              "      <td>-0.186303</td>\n",
              "      <td>...</td>\n",
              "      <td>-1.011717</td>\n",
              "      <td>1.514276</td>\n",
              "      <td>-0.202638</td>\n",
              "      <td>-0.122953</td>\n",
              "      <td>0.894768</td>\n",
              "      <td>-0.435928</td>\n",
              "      <td>-0.198462</td>\n",
              "      <td>-0.187992</td>\n",
              "      <td>0.472084</td>\n",
              "      <td>0</td>\n",
              "    </tr>\n",
              "    <tr>\n",
              "      <th>3</th>\n",
              "      <td>0.101676</td>\n",
              "      <td>0.124744</td>\n",
              "      <td>2.327377</td>\n",
              "      <td>0.220761</td>\n",
              "      <td>-0.517935</td>\n",
              "      <td>-0.185029</td>\n",
              "      <td>-0.166294</td>\n",
              "      <td>1.923944</td>\n",
              "      <td>-0.227594</td>\n",
              "      <td>-0.186303</td>\n",
              "      <td>...</td>\n",
              "      <td>-1.011717</td>\n",
              "      <td>1.514276</td>\n",
              "      <td>-0.202638</td>\n",
              "      <td>-0.122953</td>\n",
              "      <td>-1.117608</td>\n",
              "      <td>-0.435928</td>\n",
              "      <td>-0.198462</td>\n",
              "      <td>-0.187992</td>\n",
              "      <td>-2.118267</td>\n",
              "      <td>0</td>\n",
              "    </tr>\n",
              "    <tr>\n",
              "      <th>4</th>\n",
              "      <td>1.423956</td>\n",
              "      <td>-0.361943</td>\n",
              "      <td>0.008043</td>\n",
              "      <td>-0.289532</td>\n",
              "      <td>-0.517935</td>\n",
              "      <td>-0.185029</td>\n",
              "      <td>-0.166294</td>\n",
              "      <td>1.923944</td>\n",
              "      <td>-0.227594</td>\n",
              "      <td>-0.186303</td>\n",
              "      <td>...</td>\n",
              "      <td>-1.011717</td>\n",
              "      <td>1.514276</td>\n",
              "      <td>-0.202638</td>\n",
              "      <td>-0.122953</td>\n",
              "      <td>-1.117608</td>\n",
              "      <td>2.293956</td>\n",
              "      <td>-0.198462</td>\n",
              "      <td>-0.187992</td>\n",
              "      <td>0.472084</td>\n",
              "      <td>0</td>\n",
              "    </tr>\n",
              "  </tbody>\n",
              "</table>\n",
              "<p>5 rows × 26 columns</p>\n",
              "</div>\n",
              "    <div class=\"colab-df-buttons\">\n",
              "\n",
              "  <div class=\"colab-df-container\">\n",
              "    <button class=\"colab-df-convert\" onclick=\"convertToInteractive('df-93f373e8-653e-4222-acc2-79e05a0f7398')\"\n",
              "            title=\"Convert this dataframe to an interactive table.\"\n",
              "            style=\"display:none;\">\n",
              "\n",
              "  <svg xmlns=\"http://www.w3.org/2000/svg\" height=\"24px\" viewBox=\"0 -960 960 960\">\n",
              "    <path d=\"M120-120v-720h720v720H120Zm60-500h600v-160H180v160Zm220 220h160v-160H400v160Zm0 220h160v-160H400v160ZM180-400h160v-160H180v160Zm440 0h160v-160H620v160ZM180-180h160v-160H180v160Zm440 0h160v-160H620v160Z\"/>\n",
              "  </svg>\n",
              "    </button>\n",
              "\n",
              "  <style>\n",
              "    .colab-df-container {\n",
              "      display:flex;\n",
              "      gap: 12px;\n",
              "    }\n",
              "\n",
              "    .colab-df-convert {\n",
              "      background-color: #E8F0FE;\n",
              "      border: none;\n",
              "      border-radius: 50%;\n",
              "      cursor: pointer;\n",
              "      display: none;\n",
              "      fill: #1967D2;\n",
              "      height: 32px;\n",
              "      padding: 0 0 0 0;\n",
              "      width: 32px;\n",
              "    }\n",
              "\n",
              "    .colab-df-convert:hover {\n",
              "      background-color: #E2EBFA;\n",
              "      box-shadow: 0px 1px 2px rgba(60, 64, 67, 0.3), 0px 1px 3px 1px rgba(60, 64, 67, 0.15);\n",
              "      fill: #174EA6;\n",
              "    }\n",
              "\n",
              "    .colab-df-buttons div {\n",
              "      margin-bottom: 4px;\n",
              "    }\n",
              "\n",
              "    [theme=dark] .colab-df-convert {\n",
              "      background-color: #3B4455;\n",
              "      fill: #D2E3FC;\n",
              "    }\n",
              "\n",
              "    [theme=dark] .colab-df-convert:hover {\n",
              "      background-color: #434B5C;\n",
              "      box-shadow: 0px 1px 3px 1px rgba(0, 0, 0, 0.15);\n",
              "      filter: drop-shadow(0px 1px 2px rgba(0, 0, 0, 0.3));\n",
              "      fill: #FFFFFF;\n",
              "    }\n",
              "  </style>\n",
              "\n",
              "    <script>\n",
              "      const buttonEl =\n",
              "        document.querySelector('#df-93f373e8-653e-4222-acc2-79e05a0f7398 button.colab-df-convert');\n",
              "      buttonEl.style.display =\n",
              "        google.colab.kernel.accessAllowed ? 'block' : 'none';\n",
              "\n",
              "      async function convertToInteractive(key) {\n",
              "        const element = document.querySelector('#df-93f373e8-653e-4222-acc2-79e05a0f7398');\n",
              "        const dataTable =\n",
              "          await google.colab.kernel.invokeFunction('convertToInteractive',\n",
              "                                                    [key], {});\n",
              "        if (!dataTable) return;\n",
              "\n",
              "        const docLinkHtml = 'Like what you see? Visit the ' +\n",
              "          '<a target=\"_blank\" href=https://colab.research.google.com/notebooks/data_table.ipynb>data table notebook</a>'\n",
              "          + ' to learn more about interactive tables.';\n",
              "        element.innerHTML = '';\n",
              "        dataTable['output_type'] = 'display_data';\n",
              "        await google.colab.output.renderOutput(dataTable, element);\n",
              "        const docLink = document.createElement('div');\n",
              "        docLink.innerHTML = docLinkHtml;\n",
              "        element.appendChild(docLink);\n",
              "      }\n",
              "    </script>\n",
              "  </div>\n",
              "\n",
              "\n",
              "<div id=\"df-e8d1e93d-2c03-4d11-9a9e-49a87e27d467\">\n",
              "  <button class=\"colab-df-quickchart\" onclick=\"quickchart('df-e8d1e93d-2c03-4d11-9a9e-49a87e27d467')\"\n",
              "            title=\"Suggest charts\"\n",
              "            style=\"display:none;\">\n",
              "\n",
              "<svg xmlns=\"http://www.w3.org/2000/svg\" height=\"24px\"viewBox=\"0 0 24 24\"\n",
              "     width=\"24px\">\n",
              "    <g>\n",
              "        <path d=\"M19 3H5c-1.1 0-2 .9-2 2v14c0 1.1.9 2 2 2h14c1.1 0 2-.9 2-2V5c0-1.1-.9-2-2-2zM9 17H7v-7h2v7zm4 0h-2V7h2v10zm4 0h-2v-4h2v4z\"/>\n",
              "    </g>\n",
              "</svg>\n",
              "  </button>\n",
              "\n",
              "<style>\n",
              "  .colab-df-quickchart {\n",
              "      --bg-color: #E8F0FE;\n",
              "      --fill-color: #1967D2;\n",
              "      --hover-bg-color: #E2EBFA;\n",
              "      --hover-fill-color: #174EA6;\n",
              "      --disabled-fill-color: #AAA;\n",
              "      --disabled-bg-color: #DDD;\n",
              "  }\n",
              "\n",
              "  [theme=dark] .colab-df-quickchart {\n",
              "      --bg-color: #3B4455;\n",
              "      --fill-color: #D2E3FC;\n",
              "      --hover-bg-color: #434B5C;\n",
              "      --hover-fill-color: #FFFFFF;\n",
              "      --disabled-bg-color: #3B4455;\n",
              "      --disabled-fill-color: #666;\n",
              "  }\n",
              "\n",
              "  .colab-df-quickchart {\n",
              "    background-color: var(--bg-color);\n",
              "    border: none;\n",
              "    border-radius: 50%;\n",
              "    cursor: pointer;\n",
              "    display: none;\n",
              "    fill: var(--fill-color);\n",
              "    height: 32px;\n",
              "    padding: 0;\n",
              "    width: 32px;\n",
              "  }\n",
              "\n",
              "  .colab-df-quickchart:hover {\n",
              "    background-color: var(--hover-bg-color);\n",
              "    box-shadow: 0 1px 2px rgba(60, 64, 67, 0.3), 0 1px 3px 1px rgba(60, 64, 67, 0.15);\n",
              "    fill: var(--button-hover-fill-color);\n",
              "  }\n",
              "\n",
              "  .colab-df-quickchart-complete:disabled,\n",
              "  .colab-df-quickchart-complete:disabled:hover {\n",
              "    background-color: var(--disabled-bg-color);\n",
              "    fill: var(--disabled-fill-color);\n",
              "    box-shadow: none;\n",
              "  }\n",
              "\n",
              "  .colab-df-spinner {\n",
              "    border: 2px solid var(--fill-color);\n",
              "    border-color: transparent;\n",
              "    border-bottom-color: var(--fill-color);\n",
              "    animation:\n",
              "      spin 1s steps(1) infinite;\n",
              "  }\n",
              "\n",
              "  @keyframes spin {\n",
              "    0% {\n",
              "      border-color: transparent;\n",
              "      border-bottom-color: var(--fill-color);\n",
              "      border-left-color: var(--fill-color);\n",
              "    }\n",
              "    20% {\n",
              "      border-color: transparent;\n",
              "      border-left-color: var(--fill-color);\n",
              "      border-top-color: var(--fill-color);\n",
              "    }\n",
              "    30% {\n",
              "      border-color: transparent;\n",
              "      border-left-color: var(--fill-color);\n",
              "      border-top-color: var(--fill-color);\n",
              "      border-right-color: var(--fill-color);\n",
              "    }\n",
              "    40% {\n",
              "      border-color: transparent;\n",
              "      border-right-color: var(--fill-color);\n",
              "      border-top-color: var(--fill-color);\n",
              "    }\n",
              "    60% {\n",
              "      border-color: transparent;\n",
              "      border-right-color: var(--fill-color);\n",
              "    }\n",
              "    80% {\n",
              "      border-color: transparent;\n",
              "      border-right-color: var(--fill-color);\n",
              "      border-bottom-color: var(--fill-color);\n",
              "    }\n",
              "    90% {\n",
              "      border-color: transparent;\n",
              "      border-bottom-color: var(--fill-color);\n",
              "    }\n",
              "  }\n",
              "</style>\n",
              "\n",
              "  <script>\n",
              "    async function quickchart(key) {\n",
              "      const quickchartButtonEl =\n",
              "        document.querySelector('#' + key + ' button');\n",
              "      quickchartButtonEl.disabled = true;  // To prevent multiple clicks.\n",
              "      quickchartButtonEl.classList.add('colab-df-spinner');\n",
              "      try {\n",
              "        const charts = await google.colab.kernel.invokeFunction(\n",
              "            'suggestCharts', [key], {});\n",
              "      } catch (error) {\n",
              "        console.error('Error during call to suggestCharts:', error);\n",
              "      }\n",
              "      quickchartButtonEl.classList.remove('colab-df-spinner');\n",
              "      quickchartButtonEl.classList.add('colab-df-quickchart-complete');\n",
              "    }\n",
              "    (() => {\n",
              "      let quickchartButtonEl =\n",
              "        document.querySelector('#df-e8d1e93d-2c03-4d11-9a9e-49a87e27d467 button');\n",
              "      quickchartButtonEl.style.display =\n",
              "        google.colab.kernel.accessAllowed ? 'block' : 'none';\n",
              "    })();\n",
              "  </script>\n",
              "</div>\n",
              "\n",
              "    </div>\n",
              "  </div>\n"
            ],
            "application/vnd.google.colaboratory.intrinsic+json": {
              "type": "dataframe",
              "variable_name": "abt_01_test"
            }
          },
          "metadata": {},
          "execution_count": 46
        }
      ]
    },
    {
      "cell_type": "markdown",
      "source": [
        "# 4. Salva ABTs de Treino e Teste com as *Features Selecionadas*"
      ],
      "metadata": {
        "id": "-4dCNXch3tSP"
      }
    },
    {
      "cell_type": "code",
      "source": [
        "# Salvando abt para treinamento dos modelos\n",
        "\n",
        "abt_01.to_csv('abt_fs01_train.csv')\n",
        "abt_01_test.to_csv('abt_fs01_test.csv')"
      ],
      "metadata": {
        "id": "obPbZEruCAea"
      },
      "execution_count": null,
      "outputs": []
    }
  ]
}