{
  "nbformat": 4,
  "nbformat_minor": 0,
  "metadata": {
    "colab": {
      "provenance": [],
      "include_colab_link": true
    },
    "kernelspec": {
      "name": "python3",
      "display_name": "Python 3"
    },
    "language_info": {
      "name": "python"
    }
  },
  "cells": [
    {
      "cell_type": "markdown",
      "metadata": {
        "id": "view-in-github",
        "colab_type": "text"
      },
      "source": [
        "<a href=\"https://colab.research.google.com/github/edgaracabral/Kaggle_BankMarketing/blob/main/03_Selecao_das_Features.ipynb\" target=\"_parent\"><img src=\"https://colab.research.google.com/assets/colab-badge.svg\" alt=\"Open In Colab\"/></a>"
      ]
    },
    {
      "cell_type": "markdown",
      "source": [
        "# Kaggle Bank Marketing Case\n",
        "## Seleção de Variáveis para Modelagem (*Feature Selection*)\n",
        "\n",
        "Neste fase temos como desafio:\n",
        "* Selecionar Variáveis que farão parte do modelo\n",
        "* Criar Analytical Base Tables (ABT) para Treino e Teste\n",
        " * Treino - abt_fs01_train.csv\n",
        " * Teste - abt_fs01_test.csv"
      ],
      "metadata": {
        "id": "yplSGGkXrM6w"
      }
    },
    {
      "cell_type": "markdown",
      "source": [
        "## Framework de Seleção de Variáveis (*Feature Selection*)\n",
        "No passo anterior de Preparação de Dados, é possível utilizar técnicas de *Feature Engineering* que agrupam as variáveis de forma a explodir as possibilidades de análise.\n",
        "\n",
        "No caso deste projeto, esta possibilidade não foi explorada, porém caso fosse feita a base a ser analisada poderia conter uma grande gama de *features*. A PoD Academy menciona a possibilidade de gerar-se até 80 mil variáveis. Para possibilitar o trabalho de modelagem, a *Feature Selection* reduziria o conjunto de *Features* para um número menor a ser tratado no próximo passo.\n",
        "\n",
        "Mantemos o framework de *Feature Selection* como orientado pela PoD Academy para fins ilustrativos, que consiste nos seguintes passos:\n",
        "- Ler as tabelas criadas no passo **DataPrep** anterior,\n",
        "- Aplicar um modelo de Aprendizagem dentre as seguintes opções:\n",
        " - Decision Tree\n",
        " - Gradient Boost\n",
        " - Random Forest\n",
        "- Analisar impacto oferecidos pelas *features*\n",
        "- Definir um threshold que manterá apenas as *features* mais importantes\n",
        "- Gerar artefatos para implantação do *feature selection* realizado\n",
        " - abt_fs01_train.csv\n",
        " - abt_fs01_test.csv"
      ],
      "metadata": {
        "id": "_znVDXXW7MG1"
      }
    },
    {
      "cell_type": "markdown",
      "source": [
        "# 1. Leitura dos Dados"
      ],
      "metadata": {
        "id": "RCF_UrjsvpJp"
      }
    },
    {
      "cell_type": "markdown",
      "source": [
        "## 1.1 Setando o Ambiente\n",
        "* Google Drive\n",
        "* Carregar Bibliotecas Utilizadas\n",
        "* Ir ao folder dos arquivos de DataPrep"
      ],
      "metadata": {
        "id": "jfQQlbDQvr5H"
      }
    },
    {
      "cell_type": "code",
      "source": [
        "from google.colab import drive\n",
        "drive.mount('/content/drive')"
      ],
      "metadata": {
        "id": "uJbXvE3sZDtR",
        "outputId": "7a42ab32-8569-4eaa-9a1a-4cfb214507e8",
        "colab": {
          "base_uri": "https://localhost:8080/"
        }
      },
      "execution_count": 3,
      "outputs": [
        {
          "output_type": "stream",
          "name": "stdout",
          "text": [
            "Drive already mounted at /content/drive; to attempt to forcibly remount, call drive.mount(\"/content/drive\", force_remount=True).\n"
          ]
        }
      ]
    },
    {
      "cell_type": "code",
      "source": [
        "import seaborn as sns\n",
        "import pandas as pd\n",
        "import numpy as np\n",
        "import matplotlib.pyplot as plt\n",
        "from sklearn.ensemble import RandomForestClassifier\n",
        "from sklearn.ensemble import GradientBoostingClassifier\n",
        "from sklearn.tree import DecisionTreeClassifier\n",
        "\n",
        "# Redirecione para o folder on pod_academy_functions.py is localizado\n",
        "%cd /content/drive/MyDrive/Kaggle/Bank\\ Marketing/00\\ library\n",
        "import pod_academy_functions as pod"
      ],
      "metadata": {
        "id": "koM48Dt185P4",
        "outputId": "e9b09903-236a-44e8-9744-2dcbc51cc75a",
        "colab": {
          "base_uri": "https://localhost:8080/"
        }
      },
      "execution_count": 4,
      "outputs": [
        {
          "output_type": "stream",
          "name": "stdout",
          "text": [
            "/content/drive/MyDrive/Kaggle/Bank Marketing/00 library\n",
            "-----------------------------------------------------\n",
            "------------ PoD Academy Functions ------------------\n",
            "Só Alegria!\n",
            "Você está usando o pacote de funções da PoD Academy\n",
            "Turma: 2023\n",
            "Autor: PoD Academy\n",
            "Professor: Bruno Jardim\n",
            "Versão: 1.0.0\n",
            "Data: 08/10/2023\n",
            "-----------------------------------------------------\n",
            "Atualização: 1.0.2\n",
            "Aluno: Edgar Cabral\n",
            "Data: 06/12/2023\n",
            "-----------------------------------------------------\n"
          ]
        }
      ]
    },
    {
      "cell_type": "code",
      "source": [
        "# Armazene o caminho do folder de DataPrep em file_path\n",
        "file_path = '/content/drive/MyDrive/Kaggle/Bank\\ Marketing/02\\ data\\ prep'\n",
        "\n",
        "# Vá para o folder de DataPrep\n",
        "%cd $file_path"
      ],
      "metadata": {
        "id": "MxlT-jkBwiO-",
        "outputId": "600b926c-fa3d-4ed6-a183-32a2ed364943",
        "colab": {
          "base_uri": "https://localhost:8080/"
        }
      },
      "execution_count": 5,
      "outputs": [
        {
          "output_type": "stream",
          "name": "stdout",
          "text": [
            "/content/drive/MyDrive/Kaggle/Bank Marketing/02 data prep\n"
          ]
        }
      ]
    },
    {
      "cell_type": "markdown",
      "source": [
        "#2. Trabalhando com a ABT de Treino"
      ],
      "metadata": {
        "id": "i3jwvWs20Voy"
      }
    },
    {
      "cell_type": "markdown",
      "source": [
        "## 2.1 Carregando a ABT de Treino"
      ],
      "metadata": {
        "id": "GFZWniHiwu0M"
      }
    },
    {
      "cell_type": "code",
      "execution_count": 6,
      "metadata": {
        "colab": {
          "base_uri": "https://localhost:8080/"
        },
        "id": "GSOvBoaI65rx",
        "outputId": "966219c2-732b-48a9-b5f7-9c9148c23b1c"
      },
      "outputs": [
        {
          "output_type": "execute_result",
          "data": {
            "text/plain": [
              "(31647, 45)"
            ]
          },
          "metadata": {},
          "execution_count": 6
        }
      ],
      "source": [
        "abt_00 = pd.read_csv('abt_train.csv')\n",
        "abt_00.shape"
      ]
    },
    {
      "cell_type": "markdown",
      "source": [
        "## 2.2 Removendo colunas **Unnamed** e **id** da ABT de Treino"
      ],
      "metadata": {
        "id": "queTKgcFyb5L"
      }
    },
    {
      "cell_type": "code",
      "source": [
        "# Removendo colunas 'Unnamed' e 'id' da tabela abt_00\n",
        "# No final deste processo, as tabelas geradas não devem possuir a coluna id\n",
        "abt_00.drop(axis=1,columns=['Unnamed: 0','id'],inplace=True)\n",
        "abt_00.shape"
      ],
      "metadata": {
        "id": "wF39e7jHx5be",
        "outputId": "cb4e8b19-26f7-4090-de08-cf65db9a822c",
        "colab": {
          "base_uri": "https://localhost:8080/"
        }
      },
      "execution_count": 7,
      "outputs": [
        {
          "output_type": "execute_result",
          "data": {
            "text/plain": [
              "(31647, 43)"
            ]
          },
          "metadata": {},
          "execution_count": 7
        }
      ]
    },
    {
      "cell_type": "markdown",
      "source": [
        "## 2.3 Aplicando Modelo para identificar importância das variáveis Explicativas\n",
        "Separamos em variáveis Explicativas (dataframe **X**) e a variável Target (dataframe **y**) e selecionamos o algoritmo que será utilizado."
      ],
      "metadata": {
        "id": "o8RGKC86y4kK"
      }
    },
    {
      "cell_type": "code",
      "source": [
        "X = abt_00.drop(axis=1,columns='target')\n",
        "y = abt_00.target\n",
        "\n",
        "print(X.shape)\n",
        "print(y.shape)\n",
        "\n",
        "# Treinar modelo com algoritmo Random Forest (Calma, não precisa focar no modelo neste momento)\n",
        "#clf = RandomForestClassifier() # troque aqui qual classificador quer utilizar: GradientBoostingClassifier, DecisionTreeClassifier\n",
        "clf = DecisionTreeClassifier() # troque aqui qual classificador quer utilizar: GradientBoostingClassifier, DecisionTreeClassifier\n",
        "clf.fit(X, y)"
      ],
      "metadata": {
        "id": "kLi6s28R7PWd",
        "colab": {
          "base_uri": "https://localhost:8080/",
          "height": 109
        },
        "outputId": "1669e928-de8f-4060-9d8c-7da5768504a8"
      },
      "execution_count": 8,
      "outputs": [
        {
          "output_type": "stream",
          "name": "stdout",
          "text": [
            "(31647, 42)\n",
            "(31647,)\n"
          ]
        },
        {
          "output_type": "execute_result",
          "data": {
            "text/plain": [
              "DecisionTreeClassifier()"
            ],
            "text/html": [
              "<style>#sk-container-id-1 {color: black;}#sk-container-id-1 pre{padding: 0;}#sk-container-id-1 div.sk-toggleable {background-color: white;}#sk-container-id-1 label.sk-toggleable__label {cursor: pointer;display: block;width: 100%;margin-bottom: 0;padding: 0.3em;box-sizing: border-box;text-align: center;}#sk-container-id-1 label.sk-toggleable__label-arrow:before {content: \"▸\";float: left;margin-right: 0.25em;color: #696969;}#sk-container-id-1 label.sk-toggleable__label-arrow:hover:before {color: black;}#sk-container-id-1 div.sk-estimator:hover label.sk-toggleable__label-arrow:before {color: black;}#sk-container-id-1 div.sk-toggleable__content {max-height: 0;max-width: 0;overflow: hidden;text-align: left;background-color: #f0f8ff;}#sk-container-id-1 div.sk-toggleable__content pre {margin: 0.2em;color: black;border-radius: 0.25em;background-color: #f0f8ff;}#sk-container-id-1 input.sk-toggleable__control:checked~div.sk-toggleable__content {max-height: 200px;max-width: 100%;overflow: auto;}#sk-container-id-1 input.sk-toggleable__control:checked~label.sk-toggleable__label-arrow:before {content: \"▾\";}#sk-container-id-1 div.sk-estimator input.sk-toggleable__control:checked~label.sk-toggleable__label {background-color: #d4ebff;}#sk-container-id-1 div.sk-label input.sk-toggleable__control:checked~label.sk-toggleable__label {background-color: #d4ebff;}#sk-container-id-1 input.sk-hidden--visually {border: 0;clip: rect(1px 1px 1px 1px);clip: rect(1px, 1px, 1px, 1px);height: 1px;margin: -1px;overflow: hidden;padding: 0;position: absolute;width: 1px;}#sk-container-id-1 div.sk-estimator {font-family: monospace;background-color: #f0f8ff;border: 1px dotted black;border-radius: 0.25em;box-sizing: border-box;margin-bottom: 0.5em;}#sk-container-id-1 div.sk-estimator:hover {background-color: #d4ebff;}#sk-container-id-1 div.sk-parallel-item::after {content: \"\";width: 100%;border-bottom: 1px solid gray;flex-grow: 1;}#sk-container-id-1 div.sk-label:hover label.sk-toggleable__label {background-color: #d4ebff;}#sk-container-id-1 div.sk-serial::before {content: \"\";position: absolute;border-left: 1px solid gray;box-sizing: border-box;top: 0;bottom: 0;left: 50%;z-index: 0;}#sk-container-id-1 div.sk-serial {display: flex;flex-direction: column;align-items: center;background-color: white;padding-right: 0.2em;padding-left: 0.2em;position: relative;}#sk-container-id-1 div.sk-item {position: relative;z-index: 1;}#sk-container-id-1 div.sk-parallel {display: flex;align-items: stretch;justify-content: center;background-color: white;position: relative;}#sk-container-id-1 div.sk-item::before, #sk-container-id-1 div.sk-parallel-item::before {content: \"\";position: absolute;border-left: 1px solid gray;box-sizing: border-box;top: 0;bottom: 0;left: 50%;z-index: -1;}#sk-container-id-1 div.sk-parallel-item {display: flex;flex-direction: column;z-index: 1;position: relative;background-color: white;}#sk-container-id-1 div.sk-parallel-item:first-child::after {align-self: flex-end;width: 50%;}#sk-container-id-1 div.sk-parallel-item:last-child::after {align-self: flex-start;width: 50%;}#sk-container-id-1 div.sk-parallel-item:only-child::after {width: 0;}#sk-container-id-1 div.sk-dashed-wrapped {border: 1px dashed gray;margin: 0 0.4em 0.5em 0.4em;box-sizing: border-box;padding-bottom: 0.4em;background-color: white;}#sk-container-id-1 div.sk-label label {font-family: monospace;font-weight: bold;display: inline-block;line-height: 1.2em;}#sk-container-id-1 div.sk-label-container {text-align: center;}#sk-container-id-1 div.sk-container {/* jupyter's `normalize.less` sets `[hidden] { display: none; }` but bootstrap.min.css set `[hidden] { display: none !important; }` so we also need the `!important` here to be able to override the default hidden behavior on the sphinx rendered scikit-learn.org. See: https://github.com/scikit-learn/scikit-learn/issues/21755 */display: inline-block !important;position: relative;}#sk-container-id-1 div.sk-text-repr-fallback {display: none;}</style><div id=\"sk-container-id-1\" class=\"sk-top-container\"><div class=\"sk-text-repr-fallback\"><pre>DecisionTreeClassifier()</pre><b>In a Jupyter environment, please rerun this cell to show the HTML representation or trust the notebook. <br />On GitHub, the HTML representation is unable to render, please try loading this page with nbviewer.org.</b></div><div class=\"sk-container\" hidden><div class=\"sk-item\"><div class=\"sk-estimator sk-toggleable\"><input class=\"sk-toggleable__control sk-hidden--visually\" id=\"sk-estimator-id-1\" type=\"checkbox\" checked><label for=\"sk-estimator-id-1\" class=\"sk-toggleable__label sk-toggleable__label-arrow\">DecisionTreeClassifier</label><div class=\"sk-toggleable__content\"><pre>DecisionTreeClassifier()</pre></div></div></div></div></div>"
            ]
          },
          "metadata": {},
          "execution_count": 8
        }
      ]
    },
    {
      "cell_type": "markdown",
      "source": [
        "Executamos o algorítmo para identificar a importância das variáveis Explicativas face a variável Target."
      ],
      "metadata": {
        "id": "TQCt4bSLzpQG"
      }
    },
    {
      "cell_type": "code",
      "source": [
        "# Obter importância das variáveis\n",
        "feature_importances = clf.feature_importances_\n",
        "features = pd.DataFrame({\n",
        "    'Feature': X.columns,\n",
        "    'Importance': feature_importances\n",
        "})\n",
        "\n",
        "# Ordenar variáveis por importância\n",
        "features = features.sort_values(by='Importance', ascending=False)\n",
        "\n",
        "# Estabelecer um limite de corte, por exemplo, x% da importância máxima\n",
        "cutoff_maximp = 0.05\n",
        "\n",
        "cutoff = cutoff_maximp * feature_importances.max()\n",
        "\n",
        "# Selecionar variáveis acima do corte\n",
        "selected_features = X.columns[feature_importances > cutoff].tolist()\n",
        "print('Número de features selecionadas: ',len(selected_features))\n",
        "\n",
        "# Ordenar variáveis por importância\n",
        "features = features.sort_values(by='Importance', ascending=True)\n",
        "\n",
        "# Filtrar o DataFrame para apenas as features acima do corte\n",
        "selected_features_df = features[features['Importance'] > cutoff]\n",
        "\n",
        "# Ajusta o tamanho da figura com base no número de features selecionadas\n",
        "plt.figure(figsize=(10, len(selected_features_df)*0.4))\n",
        "\n",
        "# Plota as features selecionadas\n",
        "plt.barh(selected_features_df['Feature'], selected_features_df['Importance'], color=(0.25, 0.5, 1))\n",
        "plt.xlabel(\"Feature Importance\")\n",
        "plt.title(\"Variáveis Selecionadas - Random Forest\")\n",
        "plt.grid(axis='x', linestyle='--', alpha=0.7)\n",
        "plt.tight_layout()\n",
        "plt.show()\n"
      ],
      "metadata": {
        "colab": {
          "base_uri": "https://localhost:8080/",
          "height": 424
        },
        "id": "9b-V7U9c-nyx",
        "outputId": "af1b1a31-985a-44ba-de7b-fbe895d30974"
      },
      "execution_count": 9,
      "outputs": [
        {
          "output_type": "stream",
          "name": "stdout",
          "text": [
            "Número de features selecionadas:  10\n"
          ]
        },
        {
          "output_type": "display_data",
          "data": {
            "text/plain": [
              "<Figure size 1000x400 with 1 Axes>"
            ],
            "image/png": "[encoded data removed]"
          },
          "metadata": {}
        }
      ]
    },
    {
      "cell_type": "markdown",
      "source": [
        "## 2.4 Salvar Artefato .pkl de *Features* selecionadas\n",
        "O arquivo `prd_list_features_hktn.pkl` contém as *features* selecionadas neste framework."
      ],
      "metadata": {
        "id": "-lHtxwfQ1MCS"
      }
    },
    {
      "cell_type": "code",
      "source": [
        "# Salvar a lista em um arquivo .pkl\n",
        "import pickle\n",
        "with open('prd_list_features_hktn.pkl', 'wb') as f:\n",
        "    pickle.dump(selected_features, f)"
      ],
      "metadata": {
        "id": "UIMFpAZLDNgt"
      },
      "execution_count": 10,
      "outputs": []
    },
    {
      "cell_type": "markdown",
      "source": [
        "## 2.5 Carregando o Artefato .pkl de *Features* selecionadas\n",
        "Para verificar se artefato foi devidamente salvo, pois será usado caso coloquemos em Produção.\n",
        "\n",
        "Comparar com o histograma gerado no passo 2.3 acima."
      ],
      "metadata": {
        "id": "eUxcNFuk2A0L"
      }
    },
    {
      "cell_type": "code",
      "source": [
        "# Carregar a lista do arquivo .pkl\n",
        "with open('prd_list_features_hktn.pkl', 'rb') as f:\n",
        "    loaded_lista = pickle.load(f)\n",
        "\n",
        "print(loaded_lista)"
      ],
      "metadata": {
        "colab": {
          "base_uri": "https://localhost:8080/"
        },
        "id": "6E-NTW1aDa6m",
        "outputId": "fe1effeb-2683-423b-c79d-b8cc615e5612"
      },
      "execution_count": 11,
      "outputs": [
        {
          "output_type": "stream",
          "name": "stdout",
          "text": [
            "['age', 'balance', 'day', 'duration', 'campaign', 'pdays', 'previous', 'poutcome_success', 'month_mar', 'contact_unknown']\n"
          ]
        }
      ]
    },
    {
      "cell_type": "markdown",
      "source": [
        "## 2.6 Cria dataframe **abt_01** apenas com Features selecionadas e Target"
      ],
      "metadata": {
        "id": "IVqOdWJU3dpH"
      }
    },
    {
      "cell_type": "code",
      "source": [
        "lista_features = loaded_lista + ['target']\n",
        "abt_01 = abt_00[lista_features]\n",
        "abt_01.shape"
      ],
      "metadata": {
        "colab": {
          "base_uri": "https://localhost:8080/"
        },
        "id": "rphY4we4COxJ",
        "outputId": "cef9f384-472c-4a40-ea40-c465fdb9eac4"
      },
      "execution_count": 12,
      "outputs": [
        {
          "output_type": "execute_result",
          "data": {
            "text/plain": [
              "(31647, 11)"
            ]
          },
          "metadata": {},
          "execution_count": 12
        }
      ]
    },
    {
      "cell_type": "code",
      "source": [
        "abt_01.head()"
      ],
      "metadata": {
        "id": "_R_ptEBO4bhF",
        "outputId": "de461c90-1dd8-4cb8-e13a-e18e597d4e33",
        "colab": {
          "base_uri": "https://localhost:8080/",
          "height": 206
        }
      },
      "execution_count": 13,
      "outputs": [
        {
          "output_type": "execute_result",
          "data": {
            "text/plain": [
              "        age   balance       day  duration  campaign         pdays  previous  \\\n",
              "0 -0.464799 -0.456680  0.140619 -0.404011  0.389277 -1.138504e-15 -0.240512   \n",
              "1  1.416343 -0.390831  0.380915  0.210292  0.072215 -1.138504e-15 -0.240512   \n",
              "2  0.475772 -0.456680 -1.301157 -0.674459 -0.244847 -1.138504e-15 -0.240512   \n",
              "3  0.005486  0.694328 -1.781749  0.171657 -0.561910 -2.127233e+00  1.812098   \n",
              "4 -0.276685 -0.456680  0.501063 -0.647414 -0.561910 -1.138504e-15 -0.240512   \n",
              "\n",
              "   poutcome_success  month_mar  contact_unknown  target  \n",
              "0         -0.185066  -0.104057         1.578328       0  \n",
              "1         -0.185066  -0.104057        -0.633582       0  \n",
              "2         -0.185066  -0.104057         1.578328       0  \n",
              "3          5.403473  -0.104057        -0.633582       0  \n",
              "4         -0.185066  -0.104057         1.578328       0  "
            ],
            "text/html": [
              "\n",
              "  <div id=\"df-87b28daa-630b-4497-badb-8b7b0108d776\" class=\"colab-df-container\">\n",
              "    <div>\n",
              "<style scoped>\n",
              "    .dataframe tbody tr th:only-of-type {\n",
              "        vertical-align: middle;\n",
              "    }\n",
              "\n",
              "    .dataframe tbody tr th {\n",
              "        vertical-align: top;\n",
              "    }\n",
              "\n",
              "    .dataframe thead th {\n",
              "        text-align: right;\n",
              "    }\n",
              "</style>\n",
              "<table border=\"1\" class=\"dataframe\">\n",
              "  <thead>\n",
              "    <tr style=\"text-align: right;\">\n",
              "      <th></th>\n",
              "      <th>age</th>\n",
              "      <th>balance</th>\n",
              "      <th>day</th>\n",
              "      <th>duration</th>\n",
              "      <th>campaign</th>\n",
              "      <th>pdays</th>\n",
              "      <th>previous</th>\n",
              "      <th>poutcome_success</th>\n",
              "      <th>month_mar</th>\n",
              "      <th>contact_unknown</th>\n",
              "      <th>target</th>\n",
              "    </tr>\n",
              "  </thead>\n",
              "  <tbody>\n",
              "    <tr>\n",
              "      <th>0</th>\n",
              "      <td>-0.464799</td>\n",
              "      <td>-0.456680</td>\n",
              "      <td>0.140619</td>\n",
              "      <td>-0.404011</td>\n",
              "      <td>0.389277</td>\n",
              "      <td>-1.138504e-15</td>\n",
              "      <td>-0.240512</td>\n",
              "      <td>-0.185066</td>\n",
              "      <td>-0.104057</td>\n",
              "      <td>1.578328</td>\n",
              "      <td>0</td>\n",
              "    </tr>\n",
              "    <tr>\n",
              "      <th>1</th>\n",
              "      <td>1.416343</td>\n",
              "      <td>-0.390831</td>\n",
              "      <td>0.380915</td>\n",
              "      <td>0.210292</td>\n",
              "      <td>0.072215</td>\n",
              "      <td>-1.138504e-15</td>\n",
              "      <td>-0.240512</td>\n",
              "      <td>-0.185066</td>\n",
              "      <td>-0.104057</td>\n",
              "      <td>-0.633582</td>\n",
              "      <td>0</td>\n",
              "    </tr>\n",
              "    <tr>\n",
              "      <th>2</th>\n",
              "      <td>0.475772</td>\n",
              "      <td>-0.456680</td>\n",
              "      <td>-1.301157</td>\n",
              "      <td>-0.674459</td>\n",
              "      <td>-0.244847</td>\n",
              "      <td>-1.138504e-15</td>\n",
              "      <td>-0.240512</td>\n",
              "      <td>-0.185066</td>\n",
              "      <td>-0.104057</td>\n",
              "      <td>1.578328</td>\n",
              "      <td>0</td>\n",
              "    </tr>\n",
              "    <tr>\n",
              "      <th>3</th>\n",
              "      <td>0.005486</td>\n",
              "      <td>0.694328</td>\n",
              "      <td>-1.781749</td>\n",
              "      <td>0.171657</td>\n",
              "      <td>-0.561910</td>\n",
              "      <td>-2.127233e+00</td>\n",
              "      <td>1.812098</td>\n",
              "      <td>5.403473</td>\n",
              "      <td>-0.104057</td>\n",
              "      <td>-0.633582</td>\n",
              "      <td>0</td>\n",
              "    </tr>\n",
              "    <tr>\n",
              "      <th>4</th>\n",
              "      <td>-0.276685</td>\n",
              "      <td>-0.456680</td>\n",
              "      <td>0.501063</td>\n",
              "      <td>-0.647414</td>\n",
              "      <td>-0.561910</td>\n",
              "      <td>-1.138504e-15</td>\n",
              "      <td>-0.240512</td>\n",
              "      <td>-0.185066</td>\n",
              "      <td>-0.104057</td>\n",
              "      <td>1.578328</td>\n",
              "      <td>0</td>\n",
              "    </tr>\n",
              "  </tbody>\n",
              "</table>\n",
              "</div>\n",
              "    <div class=\"colab-df-buttons\">\n",
              "\n",
              "  <div class=\"colab-df-container\">\n",
              "    <button class=\"colab-df-convert\" onclick=\"convertToInteractive('df-87b28daa-630b-4497-badb-8b7b0108d776')\"\n",
              "            title=\"Convert this dataframe to an interactive table.\"\n",
              "            style=\"display:none;\">\n",
              "\n",
              "  <svg xmlns=\"http://www.w3.org/2000/svg\" height=\"24px\" viewBox=\"0 -960 960 960\">\n",
              "    <path d=\"M120-120v-720h720v720H120Zm60-500h600v-160H180v160Zm220 220h160v-160H400v160Zm0 220h160v-160H400v160ZM180-400h160v-160H180v160Zm440 0h160v-160H620v160ZM180-180h160v-160H180v160Zm440 0h160v-160H620v160Z\"/>\n",
              "  </svg>\n",
              "    </button>\n",
              "\n",
              "  <style>\n",
              "    .colab-df-container {\n",
              "      display:flex;\n",
              "      gap: 12px;\n",
              "    }\n",
              "\n",
              "    .colab-df-convert {\n",
              "      background-color: #E8F0FE;\n",
              "      border: none;\n",
              "      border-radius: 50%;\n",
              "      cursor: pointer;\n",
              "      display: none;\n",
              "      fill: #1967D2;\n",
              "      height: 32px;\n",
              "      padding: 0 0 0 0;\n",
              "      width: 32px;\n",
              "    }\n",
              "\n",
              "    .colab-df-convert:hover {\n",
              "      background-color: #E2EBFA;\n",
              "      box-shadow: 0px 1px 2px rgba(60, 64, 67, 0.3), 0px 1px 3px 1px rgba(60, 64, 67, 0.15);\n",
              "      fill: #174EA6;\n",
              "    }\n",
              "\n",
              "    .colab-df-buttons div {\n",
              "      margin-bottom: 4px;\n",
              "    }\n",
              "\n",
              "    [theme=dark] .colab-df-convert {\n",
              "      background-color: #3B4455;\n",
              "      fill: #D2E3FC;\n",
              "    }\n",
              "\n",
              "    [theme=dark] .colab-df-convert:hover {\n",
              "      background-color: #434B5C;\n",
              "      box-shadow: 0px 1px 3px 1px rgba(0, 0, 0, 0.15);\n",
              "      filter: drop-shadow(0px 1px 2px rgba(0, 0, 0, 0.3));\n",
              "      fill: #FFFFFF;\n",
              "    }\n",
              "  </style>\n",
              "\n",
              "    <script>\n",
              "      const buttonEl =\n",
              "        document.querySelector('#df-87b28daa-630b-4497-badb-8b7b0108d776 button.colab-df-convert');\n",
              "      buttonEl.style.display =\n",
              "        google.colab.kernel.accessAllowed ? 'block' : 'none';\n",
              "\n",
              "      async function convertToInteractive(key) {\n",
              "        const element = document.querySelector('#df-87b28daa-630b-4497-badb-8b7b0108d776');\n",
              "        const dataTable =\n",
              "          await google.colab.kernel.invokeFunction('convertToInteractive',\n",
              "                                                    [key], {});\n",
              "        if (!dataTable) return;\n",
              "\n",
              "        const docLinkHtml = 'Like what you see? Visit the ' +\n",
              "          '<a target=\"_blank\" href=https://colab.research.google.com/notebooks/data_table.ipynb>data table notebook</a>'\n",
              "          + ' to learn more about interactive tables.';\n",
              "        element.innerHTML = '';\n",
              "        dataTable['output_type'] = 'display_data';\n",
              "        await google.colab.output.renderOutput(dataTable, element);\n",
              "        const docLink = document.createElement('div');\n",
              "        docLink.innerHTML = docLinkHtml;\n",
              "        element.appendChild(docLink);\n",
              "      }\n",
              "    </script>\n",
              "  </div>\n",
              "\n",
              "\n",
              "<div id=\"df-0700a0af-2775-4c62-94f6-23d34d47d3b5\">\n",
              "  <button class=\"colab-df-quickchart\" onclick=\"quickchart('df-0700a0af-2775-4c62-94f6-23d34d47d3b5')\"\n",
              "            title=\"Suggest charts\"\n",
              "            style=\"display:none;\">\n",
              "\n",
              "<svg xmlns=\"http://www.w3.org/2000/svg\" height=\"24px\"viewBox=\"0 0 24 24\"\n",
              "     width=\"24px\">\n",
              "    <g>\n",
              "        <path d=\"M19 3H5c-1.1 0-2 .9-2 2v14c0 1.1.9 2 2 2h14c1.1 0 2-.9 2-2V5c0-1.1-.9-2-2-2zM9 17H7v-7h2v7zm4 0h-2V7h2v10zm4 0h-2v-4h2v4z\"/>\n",
              "    </g>\n",
              "</svg>\n",
              "  </button>\n",
              "\n",
              "<style>\n",
              "  .colab-df-quickchart {\n",
              "      --bg-color: #E8F0FE;\n",
              "      --fill-color: #1967D2;\n",
              "      --hover-bg-color: #E2EBFA;\n",
              "      --hover-fill-color: #174EA6;\n",
              "      --disabled-fill-color: #AAA;\n",
              "      --disabled-bg-color: #DDD;\n",
              "  }\n",
              "\n",
              "  [theme=dark] .colab-df-quickchart {\n",
              "      --bg-color: #3B4455;\n",
              "      --fill-color: #D2E3FC;\n",
              "      --hover-bg-color: #434B5C;\n",
              "      --hover-fill-color: #FFFFFF;\n",
              "      --disabled-bg-color: #3B4455;\n",
              "      --disabled-fill-color: #666;\n",
              "  }\n",
              "\n",
              "  .colab-df-quickchart {\n",
              "    background-color: var(--bg-color);\n",
              "    border: none;\n",
              "    border-radius: 50%;\n",
              "    cursor: pointer;\n",
              "    display: none;\n",
              "    fill: var(--fill-color);\n",
              "    height: 32px;\n",
              "    padding: 0;\n",
              "    width: 32px;\n",
              "  }\n",
              "\n",
              "  .colab-df-quickchart:hover {\n",
              "    background-color: var(--hover-bg-color);\n",
              "    box-shadow: 0 1px 2px rgba(60, 64, 67, 0.3), 0 1px 3px 1px rgba(60, 64, 67, 0.15);\n",
              "    fill: var(--button-hover-fill-color);\n",
              "  }\n",
              "\n",
              "  .colab-df-quickchart-complete:disabled,\n",
              "  .colab-df-quickchart-complete:disabled:hover {\n",
              "    background-color: var(--disabled-bg-color);\n",
              "    fill: var(--disabled-fill-color);\n",
              "    box-shadow: none;\n",
              "  }\n",
              "\n",
              "  .colab-df-spinner {\n",
              "    border: 2px solid var(--fill-color);\n",
              "    border-color: transparent;\n",
              "    border-bottom-color: var(--fill-color);\n",
              "    animation:\n",
              "      spin 1s steps(1) infinite;\n",
              "  }\n",
              "\n",
              "  @keyframes spin {\n",
              "    0% {\n",
              "      border-color: transparent;\n",
              "      border-bottom-color: var(--fill-color);\n",
              "      border-left-color: var(--fill-color);\n",
              "    }\n",
              "    20% {\n",
              "      border-color: transparent;\n",
              "      border-left-color: var(--fill-color);\n",
              "      border-top-color: var(--fill-color);\n",
              "    }\n",
              "    30% {\n",
              "      border-color: transparent;\n",
              "      border-left-color: var(--fill-color);\n",
              "      border-top-color: var(--fill-color);\n",
              "      border-right-color: var(--fill-color);\n",
              "    }\n",
              "    40% {\n",
              "      border-color: transparent;\n",
              "      border-right-color: var(--fill-color);\n",
              "      border-top-color: var(--fill-color);\n",
              "    }\n",
              "    60% {\n",
              "      border-color: transparent;\n",
              "      border-right-color: var(--fill-color);\n",
              "    }\n",
              "    80% {\n",
              "      border-color: transparent;\n",
              "      border-right-color: var(--fill-color);\n",
              "      border-bottom-color: var(--fill-color);\n",
              "    }\n",
              "    90% {\n",
              "      border-color: transparent;\n",
              "      border-bottom-color: var(--fill-color);\n",
              "    }\n",
              "  }\n",
              "</style>\n",
              "\n",
              "  <script>\n",
              "    async function quickchart(key) {\n",
              "      const quickchartButtonEl =\n",
              "        document.querySelector('#' + key + ' button');\n",
              "      quickchartButtonEl.disabled = true;  // To prevent multiple clicks.\n",
              "      quickchartButtonEl.classList.add('colab-df-spinner');\n",
              "      try {\n",
              "        const charts = await google.colab.kernel.invokeFunction(\n",
              "            'suggestCharts', [key], {});\n",
              "      } catch (error) {\n",
              "        console.error('Error during call to suggestCharts:', error);\n",
              "      }\n",
              "      quickchartButtonEl.classList.remove('colab-df-spinner');\n",
              "      quickchartButtonEl.classList.add('colab-df-quickchart-complete');\n",
              "    }\n",
              "    (() => {\n",
              "      let quickchartButtonEl =\n",
              "        document.querySelector('#df-0700a0af-2775-4c62-94f6-23d34d47d3b5 button');\n",
              "      quickchartButtonEl.style.display =\n",
              "        google.colab.kernel.accessAllowed ? 'block' : 'none';\n",
              "    })();\n",
              "  </script>\n",
              "</div>\n",
              "\n",
              "    </div>\n",
              "  </div>\n"
            ],
            "application/vnd.google.colaboratory.intrinsic+json": {
              "type": "dataframe",
              "variable_name": "abt_01",
              "summary": "{\n  \"name\": \"abt_01\",\n  \"rows\": 31647,\n  \"fields\": [\n    {\n      \"column\": \"age\",\n      \"properties\": {\n        \"dtype\": \"number\",\n        \"std\": 1.0000157996603083,\n        \"min\": -2.157826372576623,\n        \"max\": 5.084568695699416,\n        \"num_unique_values\": 77,\n        \"samples\": [\n          -0.2766847964010283,\n          0.8520001493043284,\n          1.3222855433482272\n        ],\n        \"semantic_type\": \"\",\n        \"description\": \"\"\n      }\n    },\n    {\n      \"column\": \"balance\",\n      \"properties\": {\n        \"dtype\": \"number\",\n        \"std\": 1.000015799660308,\n        \"min\": -2.757014584438916,\n        \"max\": 26.82481395368221,\n        \"num_unique_values\": 6307,\n        \"samples\": [\n          -0.5863612791408428,\n          -0.4539920789725344,\n          -0.0511731170390273\n        ],\n        \"semantic_type\": \"\",\n        \"description\": \"\"\n      }\n    },\n    {\n      \"column\": \"day\",\n      \"properties\": {\n        \"dtype\": \"number\",\n        \"std\": 1.000015799660308,\n        \"min\": -1.781749251332417,\n        \"max\": 1.8226907635563885,\n        \"num_unique_values\": 31,\n        \"samples\": [\n          -0.8205652473620688,\n          -1.54145325033983,\n          -0.2198252448806013\n        ],\n        \"semantic_type\": \"\",\n        \"description\": \"\"\n      }\n    },\n    {\n      \"column\": \"duration\",\n      \"properties\": {\n        \"dtype\": \"number\",\n        \"std\": 1.0000157996603083,\n        \"min\": -0.9951334461144492,\n        \"max\": 18.0057787762062,\n        \"num_unique_values\": 1455,\n        \"samples\": [\n          2.4434212260826595,\n          4.1511079284547066,\n          3.4479428157132754\n        ],\n        \"semantic_type\": \"\",\n        \"description\": \"\"\n      }\n    },\n    {\n      \"column\": \"campaign\",\n      \"properties\": {\n        \"dtype\": \"number\",\n        \"std\": 1.000015799660308,\n        \"min\": -0.5619096557444011,\n        \"max\": 19.095951526569724,\n        \"num_unique_values\": 47,\n        \"samples\": [\n          7.998771826876267,\n          12.12058142961955,\n          4.51108677840118\n        ],\n        \"semantic_type\": \"\",\n        \"description\": \"\"\n      }\n    },\n    {\n      \"column\": \"pdays\",\n      \"properties\": {\n        \"dtype\": \"number\",\n        \"std\": 1.0000157996603083,\n        \"min\": -4.490627342495965,\n        \"max\": 12.934401834653046,\n        \"num_unique_values\": 518,\n        \"samples\": [\n          -0.3847296628229218,\n          1.578089715752484,\n          -2.808210732288474\n        ],\n        \"semantic_type\": \"\",\n        \"description\": \"\"\n      }\n    },\n    {\n      \"column\": \"previous\",\n      \"properties\": {\n        \"dtype\": \"number\",\n        \"std\": 1.0000157996603085,\n        \"min\": -0.2405122073608114,\n        \"max\": 112.65305891855417,\n        \"num_unique_values\": 39,\n        \"samples\": [\n          15.35932671185653,\n          14.127760481392004,\n          0.1700098694606976\n        ],\n        \"semantic_type\": \"\",\n        \"description\": \"\"\n      }\n    },\n    {\n      \"column\": \"poutcome_success\",\n      \"properties\": {\n        \"dtype\": \"number\",\n        \"std\": 1.0000157996603083,\n        \"min\": -0.1850661645933601,\n        \"max\": 5.403472872511665,\n        \"num_unique_values\": 2,\n        \"samples\": [\n          5.403472872511665,\n          -0.1850661645933601\n        ],\n        \"semantic_type\": \"\",\n        \"description\": \"\"\n      }\n    },\n    {\n      \"column\": \"month_mar\",\n      \"properties\": {\n        \"dtype\": \"number\",\n        \"std\": 1.000015799660308,\n        \"min\": -0.1040572122020798,\n        \"max\": 9.610097933990316,\n        \"num_unique_values\": 2,\n        \"samples\": [\n          9.610097933990316,\n          -0.1040572122020798\n        ],\n        \"semantic_type\": \"\",\n        \"description\": \"\"\n      }\n    },\n    {\n      \"column\": \"contact_unknown\",\n      \"properties\": {\n        \"dtype\": \"number\",\n        \"std\": 1.0000157996603083,\n        \"min\": -0.6335818135372364,\n        \"max\": 1.578328131637934,\n        \"num_unique_values\": 2,\n        \"samples\": [\n          -0.6335818135372364,\n          1.578328131637934\n        ],\n        \"semantic_type\": \"\",\n        \"description\": \"\"\n      }\n    },\n    {\n      \"column\": \"target\",\n      \"properties\": {\n        \"dtype\": \"number\",\n        \"std\": 0,\n        \"min\": 0,\n        \"max\": 1,\n        \"num_unique_values\": 2,\n        \"samples\": [\n          1,\n          0\n        ],\n        \"semantic_type\": \"\",\n        \"description\": \"\"\n      }\n    }\n  ]\n}"
            }
          },
          "metadata": {},
          "execution_count": 13
        }
      ]
    },
    {
      "cell_type": "markdown",
      "source": [
        "# 3. Trabalhando com a ABT de Teste"
      ],
      "metadata": {
        "id": "Zh8-o_xj11Uw"
      }
    },
    {
      "cell_type": "markdown",
      "source": [
        "## 3.1 Carregando a ABT de Treino"
      ],
      "metadata": {
        "id": "4tcekWks3Wfe"
      }
    },
    {
      "cell_type": "code",
      "source": [
        "abt_test = pd.read_csv('abt_test.csv')\n",
        "abt_test.drop(axis=1,columns=['Unnamed: 0','id'],inplace=True)\n",
        "abt_test.shape"
      ],
      "metadata": {
        "colab": {
          "base_uri": "https://localhost:8080/"
        },
        "id": "001sMhqFDomo",
        "outputId": "d9383cff-7433-4ffe-e981-9b747587b933"
      },
      "execution_count": 14,
      "outputs": [
        {
          "output_type": "execute_result",
          "data": {
            "text/plain": [
              "(13564, 43)"
            ]
          },
          "metadata": {},
          "execution_count": 14
        }
      ]
    },
    {
      "cell_type": "markdown",
      "source": [
        "## 3.2 Cria dataframe **abt_01_test** apenas com Features selecionadas e Target"
      ],
      "metadata": {
        "id": "tQe9vtce3ol8"
      }
    },
    {
      "cell_type": "code",
      "source": [
        "lista_features = loaded_lista + ['target']\n",
        "abt_01_test = abt_test[lista_features]\n",
        "abt_01_test.shape"
      ],
      "metadata": {
        "colab": {
          "base_uri": "https://localhost:8080/"
        },
        "id": "WRhbWlnWDy0l",
        "outputId": "f4adc63c-1df9-4459-be54-3746a63dcbc8"
      },
      "execution_count": 15,
      "outputs": [
        {
          "output_type": "execute_result",
          "data": {
            "text/plain": [
              "(13564, 11)"
            ]
          },
          "metadata": {},
          "execution_count": 15
        }
      ]
    },
    {
      "cell_type": "code",
      "source": [
        "abt_01_test.head()"
      ],
      "metadata": {
        "id": "6l0B5cUw4Vcm",
        "outputId": "af2ace78-e98a-4373-d81e-4ddd45758b10",
        "colab": {
          "base_uri": "https://localhost:8080/",
          "height": 206
        }
      },
      "execution_count": 16,
      "outputs": [
        {
          "output_type": "execute_result",
          "data": {
            "text/plain": [
              "        age   balance       day  duration  campaign     pdays  previous  \\\n",
              "0 -0.087221 -0.248404  0.029771 -0.265462 -0.588636  0.008043 -0.289532   \n",
              "1  0.573919  0.709957 -0.811520 -0.693838 -0.251164  0.008043 -0.289532   \n",
              "2 -1.503949 -0.261541  0.510510 -0.131840 -0.588636  0.008043 -0.289532   \n",
              "3  0.101676  0.124744 -0.811520  0.202214 -0.588636  2.327377  0.220761   \n",
              "4  1.423956 -0.361943  0.630694 -0.544496 -0.251164  0.008043 -0.289532   \n",
              "\n",
              "   poutcome_success  month_mar  contact_unknown  target  \n",
              "0         -0.187992  -0.101383         1.558712       0  \n",
              "1         -0.187992  -0.101383         1.558712       0  \n",
              "2         -0.187992  -0.101383        -0.641555       0  \n",
              "3         -0.187992  -0.101383        -0.641555       0  \n",
              "4         -0.187992  -0.101383        -0.641555       0  "
            ],
            "text/html": [
              "\n",
              "  <div id=\"df-fc45d65c-f9a5-485d-9a75-64c0cfac34fb\" class=\"colab-df-container\">\n",
              "    <div>\n",
              "<style scoped>\n",
              "    .dataframe tbody tr th:only-of-type {\n",
              "        vertical-align: middle;\n",
              "    }\n",
              "\n",
              "    .dataframe tbody tr th {\n",
              "        vertical-align: top;\n",
              "    }\n",
              "\n",
              "    .dataframe thead th {\n",
              "        text-align: right;\n",
              "    }\n",
              "</style>\n",
              "<table border=\"1\" class=\"dataframe\">\n",
              "  <thead>\n",
              "    <tr style=\"text-align: right;\">\n",
              "      <th></th>\n",
              "      <th>age</th>\n",
              "      <th>balance</th>\n",
              "      <th>day</th>\n",
              "      <th>duration</th>\n",
              "      <th>campaign</th>\n",
              "      <th>pdays</th>\n",
              "      <th>previous</th>\n",
              "      <th>poutcome_success</th>\n",
              "      <th>month_mar</th>\n",
              "      <th>contact_unknown</th>\n",
              "      <th>target</th>\n",
              "    </tr>\n",
              "  </thead>\n",
              "  <tbody>\n",
              "    <tr>\n",
              "      <th>0</th>\n",
              "      <td>-0.087221</td>\n",
              "      <td>-0.248404</td>\n",
              "      <td>0.029771</td>\n",
              "      <td>-0.265462</td>\n",
              "      <td>-0.588636</td>\n",
              "      <td>0.008043</td>\n",
              "      <td>-0.289532</td>\n",
              "      <td>-0.187992</td>\n",
              "      <td>-0.101383</td>\n",
              "      <td>1.558712</td>\n",
              "      <td>0</td>\n",
              "    </tr>\n",
              "    <tr>\n",
              "      <th>1</th>\n",
              "      <td>0.573919</td>\n",
              "      <td>0.709957</td>\n",
              "      <td>-0.811520</td>\n",
              "      <td>-0.693838</td>\n",
              "      <td>-0.251164</td>\n",
              "      <td>0.008043</td>\n",
              "      <td>-0.289532</td>\n",
              "      <td>-0.187992</td>\n",
              "      <td>-0.101383</td>\n",
              "      <td>1.558712</td>\n",
              "      <td>0</td>\n",
              "    </tr>\n",
              "    <tr>\n",
              "      <th>2</th>\n",
              "      <td>-1.503949</td>\n",
              "      <td>-0.261541</td>\n",
              "      <td>0.510510</td>\n",
              "      <td>-0.131840</td>\n",
              "      <td>-0.588636</td>\n",
              "      <td>0.008043</td>\n",
              "      <td>-0.289532</td>\n",
              "      <td>-0.187992</td>\n",
              "      <td>-0.101383</td>\n",
              "      <td>-0.641555</td>\n",
              "      <td>0</td>\n",
              "    </tr>\n",
              "    <tr>\n",
              "      <th>3</th>\n",
              "      <td>0.101676</td>\n",
              "      <td>0.124744</td>\n",
              "      <td>-0.811520</td>\n",
              "      <td>0.202214</td>\n",
              "      <td>-0.588636</td>\n",
              "      <td>2.327377</td>\n",
              "      <td>0.220761</td>\n",
              "      <td>-0.187992</td>\n",
              "      <td>-0.101383</td>\n",
              "      <td>-0.641555</td>\n",
              "      <td>0</td>\n",
              "    </tr>\n",
              "    <tr>\n",
              "      <th>4</th>\n",
              "      <td>1.423956</td>\n",
              "      <td>-0.361943</td>\n",
              "      <td>0.630694</td>\n",
              "      <td>-0.544496</td>\n",
              "      <td>-0.251164</td>\n",
              "      <td>0.008043</td>\n",
              "      <td>-0.289532</td>\n",
              "      <td>-0.187992</td>\n",
              "      <td>-0.101383</td>\n",
              "      <td>-0.641555</td>\n",
              "      <td>0</td>\n",
              "    </tr>\n",
              "  </tbody>\n",
              "</table>\n",
              "</div>\n",
              "    <div class=\"colab-df-buttons\">\n",
              "\n",
              "  <div class=\"colab-df-container\">\n",
              "    <button class=\"colab-df-convert\" onclick=\"convertToInteractive('df-fc45d65c-f9a5-485d-9a75-64c0cfac34fb')\"\n",
              "            title=\"Convert this dataframe to an interactive table.\"\n",
              "            style=\"display:none;\">\n",
              "\n",
              "  <svg xmlns=\"http://www.w3.org/2000/svg\" height=\"24px\" viewBox=\"0 -960 960 960\">\n",
              "    <path d=\"M120-120v-720h720v720H120Zm60-500h600v-160H180v160Zm220 220h160v-160H400v160Zm0 220h160v-160H400v160ZM180-400h160v-160H180v160Zm440 0h160v-160H620v160ZM180-180h160v-160H180v160Zm440 0h160v-160H620v160Z\"/>\n",
              "  </svg>\n",
              "    </button>\n",
              "\n",
              "  <style>\n",
              "    .colab-df-container {\n",
              "      display:flex;\n",
              "      gap: 12px;\n",
              "    }\n",
              "\n",
              "    .colab-df-convert {\n",
              "      background-color: #E8F0FE;\n",
              "      border: none;\n",
              "      border-radius: 50%;\n",
              "      cursor: pointer;\n",
              "      display: none;\n",
              "      fill: #1967D2;\n",
              "      height: 32px;\n",
              "      padding: 0 0 0 0;\n",
              "      width: 32px;\n",
              "    }\n",
              "\n",
              "    .colab-df-convert:hover {\n",
              "      background-color: #E2EBFA;\n",
              "      box-shadow: 0px 1px 2px rgba(60, 64, 67, 0.3), 0px 1px 3px 1px rgba(60, 64, 67, 0.15);\n",
              "      fill: #174EA6;\n",
              "    }\n",
              "\n",
              "    .colab-df-buttons div {\n",
              "      margin-bottom: 4px;\n",
              "    }\n",
              "\n",
              "    [theme=dark] .colab-df-convert {\n",
              "      background-color: #3B4455;\n",
              "      fill: #D2E3FC;\n",
              "    }\n",
              "\n",
              "    [theme=dark] .colab-df-convert:hover {\n",
              "      background-color: #434B5C;\n",
              "      box-shadow: 0px 1px 3px 1px rgba(0, 0, 0, 0.15);\n",
              "      filter: drop-shadow(0px 1px 2px rgba(0, 0, 0, 0.3));\n",
              "      fill: #FFFFFF;\n",
              "    }\n",
              "  </style>\n",
              "\n",
              "    <script>\n",
              "      const buttonEl =\n",
              "        document.querySelector('#df-fc45d65c-f9a5-485d-9a75-64c0cfac34fb button.colab-df-convert');\n",
              "      buttonEl.style.display =\n",
              "        google.colab.kernel.accessAllowed ? 'block' : 'none';\n",
              "\n",
              "      async function convertToInteractive(key) {\n",
              "        const element = document.querySelector('#df-fc45d65c-f9a5-485d-9a75-64c0cfac34fb');\n",
              "        const dataTable =\n",
              "          await google.colab.kernel.invokeFunction('convertToInteractive',\n",
              "                                                    [key], {});\n",
              "        if (!dataTable) return;\n",
              "\n",
              "        const docLinkHtml = 'Like what you see? Visit the ' +\n",
              "          '<a target=\"_blank\" href=https://colab.research.google.com/notebooks/data_table.ipynb>data table notebook</a>'\n",
              "          + ' to learn more about interactive tables.';\n",
              "        element.innerHTML = '';\n",
              "        dataTable['output_type'] = 'display_data';\n",
              "        await google.colab.output.renderOutput(dataTable, element);\n",
              "        const docLink = document.createElement('div');\n",
              "        docLink.innerHTML = docLinkHtml;\n",
              "        element.appendChild(docLink);\n",
              "      }\n",
              "    </script>\n",
              "  </div>\n",
              "\n",
              "\n",
              "<div id=\"df-d60bd0ec-990b-4570-9019-405c2b4d91a4\">\n",
              "  <button class=\"colab-df-quickchart\" onclick=\"quickchart('df-d60bd0ec-990b-4570-9019-405c2b4d91a4')\"\n",
              "            title=\"Suggest charts\"\n",
              "            style=\"display:none;\">\n",
              "\n",
              "<svg xmlns=\"http://www.w3.org/2000/svg\" height=\"24px\"viewBox=\"0 0 24 24\"\n",
              "     width=\"24px\">\n",
              "    <g>\n",
              "        <path d=\"M19 3H5c-1.1 0-2 .9-2 2v14c0 1.1.9 2 2 2h14c1.1 0 2-.9 2-2V5c0-1.1-.9-2-2-2zM9 17H7v-7h2v7zm4 0h-2V7h2v10zm4 0h-2v-4h2v4z\"/>\n",
              "    </g>\n",
              "</svg>\n",
              "  </button>\n",
              "\n",
              "<style>\n",
              "  .colab-df-quickchart {\n",
              "      --bg-color: #E8F0FE;\n",
              "      --fill-color: #1967D2;\n",
              "      --hover-bg-color: #E2EBFA;\n",
              "      --hover-fill-color: #174EA6;\n",
              "      --disabled-fill-color: #AAA;\n",
              "      --disabled-bg-color: #DDD;\n",
              "  }\n",
              "\n",
              "  [theme=dark] .colab-df-quickchart {\n",
              "      --bg-color: #3B4455;\n",
              "      --fill-color: #D2E3FC;\n",
              "      --hover-bg-color: #434B5C;\n",
              "      --hover-fill-color: #FFFFFF;\n",
              "      --disabled-bg-color: #3B4455;\n",
              "      --disabled-fill-color: #666;\n",
              "  }\n",
              "\n",
              "  .colab-df-quickchart {\n",
              "    background-color: var(--bg-color);\n",
              "    border: none;\n",
              "    border-radius: 50%;\n",
              "    cursor: pointer;\n",
              "    display: none;\n",
              "    fill: var(--fill-color);\n",
              "    height: 32px;\n",
              "    padding: 0;\n",
              "    width: 32px;\n",
              "  }\n",
              "\n",
              "  .colab-df-quickchart:hover {\n",
              "    background-color: var(--hover-bg-color);\n",
              "    box-shadow: 0 1px 2px rgba(60, 64, 67, 0.3), 0 1px 3px 1px rgba(60, 64, 67, 0.15);\n",
              "    fill: var(--button-hover-fill-color);\n",
              "  }\n",
              "\n",
              "  .colab-df-quickchart-complete:disabled,\n",
              "  .colab-df-quickchart-complete:disabled:hover {\n",
              "    background-color: var(--disabled-bg-color);\n",
              "    fill: var(--disabled-fill-color);\n",
              "    box-shadow: none;\n",
              "  }\n",
              "\n",
              "  .colab-df-spinner {\n",
              "    border: 2px solid var(--fill-color);\n",
              "    border-color: transparent;\n",
              "    border-bottom-color: var(--fill-color);\n",
              "    animation:\n",
              "      spin 1s steps(1) infinite;\n",
              "  }\n",
              "\n",
              "  @keyframes spin {\n",
              "    0% {\n",
              "      border-color: transparent;\n",
              "      border-bottom-color: var(--fill-color);\n",
              "      border-left-color: var(--fill-color);\n",
              "    }\n",
              "    20% {\n",
              "      border-color: transparent;\n",
              "      border-left-color: var(--fill-color);\n",
              "      border-top-color: var(--fill-color);\n",
              "    }\n",
              "    30% {\n",
              "      border-color: transparent;\n",
              "      border-left-color: var(--fill-color);\n",
              "      border-top-color: var(--fill-color);\n",
              "      border-right-color: var(--fill-color);\n",
              "    }\n",
              "    40% {\n",
              "      border-color: transparent;\n",
              "      border-right-color: var(--fill-color);\n",
              "      border-top-color: var(--fill-color);\n",
              "    }\n",
              "    60% {\n",
              "      border-color: transparent;\n",
              "      border-right-color: var(--fill-color);\n",
              "    }\n",
              "    80% {\n",
              "      border-color: transparent;\n",
              "      border-right-color: var(--fill-color);\n",
              "      border-bottom-color: var(--fill-color);\n",
              "    }\n",
              "    90% {\n",
              "      border-color: transparent;\n",
              "      border-bottom-color: var(--fill-color);\n",
              "    }\n",
              "  }\n",
              "</style>\n",
              "\n",
              "  <script>\n",
              "    async function quickchart(key) {\n",
              "      const quickchartButtonEl =\n",
              "        document.querySelector('#' + key + ' button');\n",
              "      quickchartButtonEl.disabled = true;  // To prevent multiple clicks.\n",
              "      quickchartButtonEl.classList.add('colab-df-spinner');\n",
              "      try {\n",
              "        const charts = await google.colab.kernel.invokeFunction(\n",
              "            'suggestCharts', [key], {});\n",
              "      } catch (error) {\n",
              "        console.error('Error during call to suggestCharts:', error);\n",
              "      }\n",
              "      quickchartButtonEl.classList.remove('colab-df-spinner');\n",
              "      quickchartButtonEl.classList.add('colab-df-quickchart-complete');\n",
              "    }\n",
              "    (() => {\n",
              "      let quickchartButtonEl =\n",
              "        document.querySelector('#df-d60bd0ec-990b-4570-9019-405c2b4d91a4 button');\n",
              "      quickchartButtonEl.style.display =\n",
              "        google.colab.kernel.accessAllowed ? 'block' : 'none';\n",
              "    })();\n",
              "  </script>\n",
              "</div>\n",
              "\n",
              "    </div>\n",
              "  </div>\n"
            ],
            "application/vnd.google.colaboratory.intrinsic+json": {
              "type": "dataframe",
              "variable_name": "abt_01_test",
              "summary": "{\n  \"name\": \"abt_01_test\",\n  \"rows\": 13564,\n  \"fields\": [\n    {\n      \"column\": \"age\",\n      \"properties\": {\n        \"dtype\": \"number\",\n        \"std\": 1.0000368643208797,\n        \"min\": -2.1650882516180645,\n        \"max\": 4.918550972046948,\n        \"num_unique_values\": 72,\n        \"samples\": [\n          1.4239556217055416,\n          3.596271650296145,\n          -1.6928456367070637\n        ],\n        \"semantic_type\": \"\",\n        \"description\": \"\"\n      }\n    },\n    {\n      \"column\": \"balance\",\n      \"properties\": {\n        \"dtype\": \"number\",\n        \"std\": 1.0000368643208797,\n        \"min\": -2.9380066072662347,\n        \"max\": 31.51355453371928,\n        \"num_unique_values\": 4276,\n        \"samples\": [\n          -0.5145804663227981,\n          0.310222674315798,\n          0.0359138558326547\n        ],\n        \"semantic_type\": \"\",\n        \"description\": \"\"\n      }\n    },\n    {\n      \"column\": \"day\",\n      \"properties\": {\n        \"dtype\": \"number\",\n        \"std\": 1.0000368643208797,\n        \"min\": -1.7729969512075303,\n        \"max\": 1.8325398773050543,\n        \"num_unique_values\": 31,\n        \"samples\": [\n          0.1499560239991816,\n          1.3518016335033765,\n          -1.5326278293066913\n        ],\n        \"semantic_type\": \"\",\n        \"description\": \"\"\n      }\n    },\n    {\n      \"column\": \"duration\",\n      \"properties\": {\n        \"dtype\": \"number\",\n        \"std\": 1.0000368643208797,\n        \"min\": -1.0200322595638178,\n        \"max\": 12.208527431775748,\n        \"num_unique_values\": 1182,\n        \"samples\": [\n          1.2161681160666673,\n          2.194751408741519,\n          2.18296124858881\n        ],\n        \"semantic_type\": \"\",\n        \"description\": \"\"\n      }\n    },\n    {\n      \"column\": \"campaign\",\n      \"properties\": {\n        \"dtype\": \"number\",\n        \"std\": 1.0000368643208797,\n        \"min\": -0.5886362109638984,\n        \"max\": 17.63487807695077,\n        \"num_unique_values\": 36,\n        \"samples\": [\n          11.222900827499313,\n          5.485868551674325,\n          5.82334103848756\n        ],\n        \"semantic_type\": \"\",\n        \"description\": \"\"\n      }\n    },\n    {\n      \"column\": \"pdays\",\n      \"properties\": {\n        \"dtype\": \"number\",\n        \"std\": 1.0000368643208797,\n        \"min\": -4.685609083963677,\n        \"max\": 12.920125882081043,\n        \"num_unique_values\": 405,\n        \"samples\": [\n          3.353156940960429,\n          -3.0318004486277284,\n          -3.1783404542904075\n        ],\n        \"semantic_type\": \"\",\n        \"description\": \"\"\n      }\n    },\n    {\n      \"column\": \"previous\",\n      \"properties\": {\n        \"dtype\": \"number\",\n        \"std\": 1.0000368643208797,\n        \"min\": -0.2895319171120878,\n        \"max\": 29.307431905014315,\n        \"num_unique_values\": 33,\n        \"samples\": [\n          9.916317676724605,\n          11.957487595491942,\n          29.307431905014315\n        ],\n        \"semantic_type\": \"\",\n        \"description\": \"\"\n      }\n    },\n    {\n      \"column\": \"poutcome_success\",\n      \"properties\": {\n        \"dtype\": \"number\",\n        \"std\": 1.0000368643208797,\n        \"min\": -0.1879915255492788,\n        \"max\": 5.319388717540178,\n        \"num_unique_values\": 2,\n        \"samples\": [\n          5.319388717540178,\n          -0.1879915255492788\n        ],\n        \"semantic_type\": \"\",\n        \"description\": \"\"\n      }\n    },\n    {\n      \"column\": \"month_mar\",\n      \"properties\": {\n        \"dtype\": \"number\",\n        \"std\": 1.0000368643208795,\n        \"min\": -0.1013832529579548,\n        \"max\": 9.86356198705436,\n        \"num_unique_values\": 2,\n        \"samples\": [\n          9.86356198705436,\n          -0.1013832529579548\n        ],\n        \"semantic_type\": \"\",\n        \"description\": \"\"\n      }\n    },\n    {\n      \"column\": \"contact_unknown\",\n      \"properties\": {\n        \"dtype\": \"number\",\n        \"std\": 1.0000368643208797,\n        \"min\": -0.6415553740323892,\n        \"max\": 1.558711906214217,\n        \"num_unique_values\": 2,\n        \"samples\": [\n          -0.6415553740323892,\n          1.558711906214217\n        ],\n        \"semantic_type\": \"\",\n        \"description\": \"\"\n      }\n    },\n    {\n      \"column\": \"target\",\n      \"properties\": {\n        \"dtype\": \"number\",\n        \"std\": 0,\n        \"min\": 0,\n        \"max\": 1,\n        \"num_unique_values\": 2,\n        \"samples\": [\n          1,\n          0\n        ],\n        \"semantic_type\": \"\",\n        \"description\": \"\"\n      }\n    }\n  ]\n}"
            }
          },
          "metadata": {},
          "execution_count": 16
        }
      ]
    },
    {
      "cell_type": "markdown",
      "source": [
        "# 4. Salva ABTs de Treino e Teste com as *Features Selecionadas*"
      ],
      "metadata": {
        "id": "-4dCNXch3tSP"
      }
    },
    {
      "cell_type": "code",
      "source": [
        "# Salvando abt para treinamento dos modelos\n",
        "\n",
        "abt_01.to_csv('abt_fs01_train.csv')\n",
        "abt_01_test.to_csv('abt_fs01_test.csv')"
      ],
      "metadata": {
        "id": "obPbZEruCAea"
      },
      "execution_count": 17,
      "outputs": []
    }
  ]
}